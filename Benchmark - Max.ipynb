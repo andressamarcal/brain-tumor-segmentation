{
 "cells": [
  {
   "cell_type": "markdown",
   "metadata": {},
   "source": [
    "# Benchmark of methods for brain tumor segmentation "
   ]
  },
  {
   "cell_type": "code",
   "execution_count": 1,
   "metadata": {},
   "outputs": [],
   "source": [
    "import warnings\n",
    "warnings.filterwarnings('ignore')\n",
    "\n",
    "import nibabel as nib\n",
    "from math import sqrt\n",
    "import pandas as pd\n",
    "import matplotlib.pyplot as plt\n",
    "import scipy.stats\n",
    "import numpy as np\n",
    "import cv2 as cv\n",
    "from sklearn.cluster import KMeans\n",
    "from sklearn.mixture import GaussianMixture\n",
    "from skfuzzy.cluster import cmeans\n",
    "from dipy.segment.mask import median_otsu\n",
    "from time import time\n",
    "import glob\n",
    "from tqdm import tqdm_notebook as tqdm\n",
    "%matplotlib inline\n",
    "\n",
    "N_ITERS = 10"
   ]
  },
  {
   "cell_type": "markdown",
   "metadata": {},
   "source": [
    "# Extracting and preprocessing "
   ]
  },
  {
   "cell_type": "code",
   "execution_count": 2,
   "metadata": {},
   "outputs": [
    {
     "name": "stdout",
     "output_type": "stream",
     "text": [
      "44\n"
     ]
    },
    {
     "data": {
      "application/vnd.jupyter.widget-view+json": {
       "model_id": "e12265a5bbde4a97996b226a8404d2be",
       "version_major": 2,
       "version_minor": 0
      },
      "text/plain": [
       "HBox(children=(IntProgress(value=0, description='Loading images', max=44), HTML(value='')))"
      ]
     },
     "metadata": {},
     "output_type": "display_data"
    },
    {
     "name": "stdout",
     "output_type": "stream",
     "text": [
      "\n"
     ]
    },
    {
     "data": {
      "application/vnd.jupyter.widget-view+json": {
       "model_id": "32c54457810d42a4bfe66d475b589710",
       "version_major": 2,
       "version_minor": 0
      },
      "text/plain": [
       "HBox(children=(IntProgress(value=0, description='Preprocessing', max=44), HTML(value='')))"
      ]
     },
     "metadata": {},
     "output_type": "display_data"
    },
    {
     "name": "stdout",
     "output_type": "stream",
     "text": [
      "\n"
     ]
    }
   ],
   "source": [
    "NUMPASS = 5\n",
    "MEDIAN_RADIUS = 11\n",
    "HIT = 0.25\n",
    "BLUR_RADIUS = 3\n",
    "\n",
    "\n",
    "N_CLUSTERS = 5\n",
    "N_COMPONENTS = 2\n",
    "\n",
    "M = 2.0\n",
    "EPS = 0.01\n",
    "MAX_IT = 100\n",
    "    \n",
    "K1 = np.ones((3, 3), np.uint16)\n",
    "\n",
    "IMG_ROOT = '/Users/macbook/Documents/Education/4_Year/DiplomaWork/Images/brain/TCIA Low grade glioma/nifti/'\n",
    "\n",
    "def get_data(root, patients):\n",
    "    for patient in tqdm(patients, desc='Loading images'):\n",
    "        img_path = root + 'LGG-%s/LGG-%s_T2.nii.gz' % (patient[0], patient[0])\n",
    "        seg_path = root + 'LGG-%s/LGG-%s-Segmentation.nii.gz' % (patient[0], patient[0])\n",
    "        img = nib.load(img_path).get_data()[:, :, patient[1]]\n",
    "        seg = nib.load(seg_path).get_data()[:, :, patient[1]]\n",
    "        yield (img, seg)\n",
    "    \n",
    "def draw(img, size=(8, 8), cmap='jet'):\n",
    "    plt.figure(figsize=size)\n",
    "    plt.imshow(img, cmap=cmap)\n",
    "    plt.plot()\n",
    "    \n",
    "\n",
    "# from random import shuffle\n",
    "\n",
    "# def get_data():\n",
    "#     NUM = 0\n",
    "#     for img_path, seg_path in zip(glob.glob(IMG_ROOT + '/**/*T2.nii.gz'), glob.glob(IMG_ROOT + '/**/*Segmentation.nii.gz')):\n",
    "#         img = nib.load(img_path).get_data()\n",
    "#         seg = nib.load(seg_path).get_data()\n",
    "#         s = np.sum(seg.reshape((seg.shape[2], -1)).astype(np.int32), axis=1)\n",
    "#         indicies = s > 0\n",
    "#         LEN = indicies.shape[0]\n",
    "#         NUM += LEN\n",
    "#         indicies = indicies.reshape((-1))\n",
    "#         if NUM > LIMIT:\n",
    "#             raise StopIteration\n",
    "#         else:\n",
    "#             print(s)\n",
    "#             indicies = np.argwhere(indicies).reshape(-1)\n",
    "#             print(indicies)\n",
    "#             img2 = img[:, :, indicies]\n",
    "            \n",
    "#             seg2 = seg[:, :, indicies]\n",
    "            \n",
    "#             print(seg2.shape)\n",
    "#             print(np.sum(seg2.reshape((seg2.shape[2], -1)).astype(np.int32), axis=1))\n",
    "#             yield img2[:, :, 4], seg2[:, :, 4]\n",
    "        \n",
    "\n",
    "        \n",
    "def preprocess(data):\n",
    "    for data_ in tqdm(data, desc='Preprocessing'):\n",
    "        img = data_[0].astype(np.float32)\n",
    "        img = cv.medianBlur(img, 3)\n",
    "        img, _ = median_otsu(img, numpass=NUMPASS, median_radius=MEDIAN_RADIUS)\n",
    "        original_shape = img.shape\n",
    "        img = ((img - np.min(img)) / (np.max(img) - np.min(img))).astype(np.float32)\n",
    "        blurred = cv.blur(img, (19, 19))\n",
    "        edges = np.clip(img - blurred, 0.0, 1.0)\n",
    "        edges[edges > HIT] = 1.0\n",
    "        edges[edges <= HIT] = 0.0\n",
    "        edges = cv.dilate(edges, np.ones((2, 2)), iterations=1)\n",
    "        img = np.clip(img - edges, 0.0, 1.0)\n",
    "        yield (img, data_[1])\n",
    "    \n",
    "PATIENTS = [\n",
    "    ('104', 38),  \n",
    "    ('220', 25),\n",
    "    ('225', 35),\n",
    "    ('229', 14),\n",
    "    ('249', 35),\n",
    "    ('374', 45),\n",
    "    ('600', 25),\n",
    "    ('500', 33),\n",
    "    ('547', 39),\n",
    "    ('311', 39),\n",
    "    (357, 35),\n",
    "    (387, 16),\n",
    "    (345, 30),\n",
    "    (346, 48),\n",
    "    (351, 24),\n",
    "    (354, 28),\n",
    "    (355, 40),\n",
    "    (357, 36),\n",
    "    (359, 33),\n",
    "    (360, 24),\n",
    "    (361, 19),\n",
    "    (363, 23),\n",
    "    (365, 28),\n",
    "    (367, 28),\n",
    "    (371, 35),\n",
    "    (373, 34),\n",
    "    (374, 44),\n",
    "    (375, 43),\n",
    "    (377, 38),\n",
    "    (380, 37),\n",
    "    (383, 38),\n",
    "    (385, 36),\n",
    "    (388, 43),\n",
    "    (391, 25),\n",
    "    (394, 38),\n",
    "    (396, 37),\n",
    "    (492, 40),\n",
    "    (500, 34),\n",
    "    (506, 26),\n",
    "    (515, 25),\n",
    "    (516, 43),\n",
    "    (518, 49),\n",
    "    (519, 23),\n",
    "    (520, 33),\n",
    "] \n",
    "\n",
    "N = len(PATIENTS)\n",
    "print(N)\n",
    "\n",
    "DATA = list(get_data(IMG_ROOT, PATIENTS))\n",
    "PREP = list(preprocess(DATA))\n",
    "\n",
    "# INDEX = 0\n",
    "# orig = DATA[INDEX][0]\n",
    "# # image = PREP[INDEX][0]\n",
    "# gt = DATA[INDEX][1]\n",
    "\n",
    "# # res, labels = multivariate_kmeans(image)\n",
    "# # print('Dice (%)', calc_dice(res, gt))\n",
    "# # draw(orig)\n",
    "# # # draw(labels)\n",
    "# # # draw(res)\n",
    "# # draw(gt)\n",
    "\n",
    "# plt.figure(figsize=(8, 8))\n",
    "# plt.imshow(orig, 'gray')\n",
    "# plt.imshow(gt, alpha=0.3)\n",
    "\n",
    "# plt.plot()"
   ]
  },
  {
   "cell_type": "markdown",
   "metadata": {},
   "source": [
    "# K Means"
   ]
  },
  {
   "cell_type": "code",
   "execution_count": 3,
   "metadata": {},
   "outputs": [],
   "source": [
    "def kmeans(img, n_clusters):\n",
    "    img = cv.blur(img, (15, 15))\n",
    "    x = img.reshape((-1, 1))\n",
    "    model = KMeans(n_clusters=n_clusters, random_state=0, algorithm='full', precompute_distances=False, n_init=1)\n",
    "    model.fit(x)\n",
    "    c_index = np.argmax(model.cluster_centers_.reshape((-1)))\n",
    "    flat = np.full(img.shape[0] * img.shape[1], 0, dtype=np.uint8)\n",
    "    flat[model.labels_ == c_index] = 1\n",
    "    mask = flat.reshape(img.shape)\n",
    "    mask = cv.dilate(mask, K1, iterations=1)\n",
    "    mask = cv.erode(mask, K1, iterations=1)\n",
    "    return mask"
   ]
  },
  {
   "cell_type": "markdown",
   "metadata": {},
   "source": [
    "# Weighted Multivariate K Means"
   ]
  },
  {
   "cell_type": "code",
   "execution_count": 4,
   "metadata": {},
   "outputs": [],
   "source": [
    "def multivariate_kmeans(img, n_clusters):\n",
    "    f1 = cv.blur(img, (7, 7)).reshape((-1, 1))\n",
    "    f2 = cv.blur(img, (9, 9)).reshape((-1, 1)) \n",
    "    f3 = cv.blur(img, (5, 5)).reshape((-1, 1)) \n",
    "    f4 = img.reshape((-1, 1)) * 0.45\n",
    "    xc = np.linspace(0, 1.0, img.shape[1])\n",
    "    yc = np.linspace(0, 1.0, img.shape[0])\n",
    "    f5 = np.transpose([np.tile(xc, len(xc)), np.repeat(yc, len(yc))]).reshape((-1, 2)) * 0.015\n",
    "    f3 = cv.blur(img, (5, 5)).reshape((-1, 1)) \n",
    "    X = np.concatenate((f1, f2, f3, f4, f5), axis=1)\n",
    "    x = X\n",
    "    model = KMeans(n_clusters=n_clusters, random_state=0, algorithm='full', precompute_distances=False, n_init=1)\n",
    "    model.fit(x)\n",
    "    c_index = np.argmax(model.cluster_centers_[:,3])\n",
    "    flat = np.full(img.shape[0] * img.shape[1], 0, dtype=np.uint8)\n",
    "    flat[model.labels_ == c_index] = 1\n",
    "    mask = flat.reshape(img.shape)\n",
    "    mask = cv.erode(mask, K1, iterations=1)\n",
    "    mask = cv.dilate(mask, K1, iterations=1)\n",
    "    return mask"
   ]
  },
  {
   "cell_type": "markdown",
   "metadata": {},
   "source": [
    "# Fuzzy C Means"
   ]
  },
  {
   "cell_type": "code",
   "execution_count": 5,
   "metadata": {},
   "outputs": [],
   "source": [
    "def fcm(img, n_clusters):\n",
    "    M = 2\n",
    "    img = cv.blur(img, (15, 15))\n",
    "    flat = img.reshape((1, -1))\n",
    "    c, u, a1, a2, a3, a4, a5 = cmeans(flat, n_clusters, M, EPS, 50)\n",
    "    tumor_index = np.argmax(c, axis=0)\n",
    "    defuz = np.argmax(u, axis=0)\n",
    "    mask = np.full(defuz.shape[0], 0, dtype=np.uint16)\n",
    "    mask[defuz == tumor_index] = 1\n",
    "    mask = mask.reshape(img.shape)\n",
    "    mask = cv.erode(mask, K1, iterations=1)\n",
    "    mask = cv.dilate(mask, K1, iterations=1)\n",
    "    return mask"
   ]
  },
  {
   "cell_type": "markdown",
   "metadata": {},
   "source": [
    "# Gaussian Mixture"
   ]
  },
  {
   "cell_type": "code",
   "execution_count": 6,
   "metadata": {},
   "outputs": [],
   "source": [
    "def gaussian_mixture(img, n_components):\n",
    "    img = cv.blur(img, (15, 15))\n",
    "    x = img.reshape((-1, 1))\n",
    "    model = GaussianMixture(n_components=n_components, covariance_type='spherical')\n",
    "    model.fit(x)\n",
    "    labels = model.predict(x)\n",
    "    c_index = np.argmax(model.means_)\n",
    "    flat = np.full(img.shape[0] * img.shape[1], 0, dtype=np.uint8)\n",
    "    flat[labels == c_index] = 1\n",
    "    mask = flat.reshape(img.shape)\n",
    "    mask = cv.erode(mask, K1, iterations=1)\n",
    "    mask = cv.dilate(mask, K1, iterations=1)\n",
    "    return mask"
   ]
  },
  {
   "cell_type": "markdown",
   "metadata": {},
   "source": [
    "# Binary thresholding"
   ]
  },
  {
   "cell_type": "code",
   "execution_count": 7,
   "metadata": {},
   "outputs": [],
   "source": [
    "def find_threshold_cpu(img, max_it=100, eps=0.001):\n",
    "    cols = img.shape[1]\n",
    "\n",
    "    mid = cols // 2\n",
    "    p1 = img[:, :mid].reshape((-1))\n",
    "    p2 = img[:, mid:].reshape((-1))\n",
    "    img = img.reshape((-1))\n",
    "\n",
    "    it = -1\n",
    "    while True:\n",
    "        t1 = np.mean(p1)\n",
    "        t2 = np.mean(p2)\n",
    "\n",
    "        t = (t1 + t2) / 2.0\n",
    "        it += 1\n",
    "        if it >= max_it or abs(t1 - t2) <= eps:\n",
    "            return t\n",
    "        else:\n",
    "            p1 = img[img < t]\n",
    "            p2 = img[img >= t]\n",
    "        \n",
    "def threshold(img):\n",
    "    t = find_threshold_cpu(img, max_it=MAX_IT, eps=EPS)\n",
    "    mask = (img > t).astype(np.int16)\n",
    "    mask = cv.erode(mask, K1, iterations=1)\n",
    "    mask = cv.dilate(mask, K1, iterations=1)\n",
    "    return mask"
   ]
  },
  {
   "cell_type": "code",
   "execution_count": 8,
   "metadata": {},
   "outputs": [],
   "source": [
    "import pycuda.driver as cuda\n",
    "import pycuda.autoinit\n",
    "from pycuda.compiler import SourceModule\n",
    "\n",
    "import cv2 as cv\n",
    "import numpy as np\n",
    "from dipy.segment.mask import median_otsu\n",
    "from pydicom import Dataset\n",
    "\n",
    "from jinja2 import Template\n",
    "import numpy as np\n",
    "\n",
    "BLOCKDIM = 1024\n",
    "\n",
    "SRC = '''\n",
    "    #define N {{N}}\n",
    "    #define BLOCKDIM 1024\n",
    "    \n",
    "    struct Cluster{\n",
    "        float sum;\n",
    "        int count;\n",
    "    };\n",
    "    \n",
    "    __device__ Cluster clusters_d[(N + BLOCKDIM - 1) / BLOCKDIM];\n",
    "    \n",
    "    __device__ float euclidian_dist(const float a, const float b){\n",
    "        float dist = a - b;\n",
    "        return hypotf(dist, dist);\n",
    "    }\n",
    "    \n",
    "    __global__ void relabel(const float* src, const float* clusters, int n, int nClusters, int* labels){\n",
    "        int pos = threadIdx.x + blockIdx.x * blockDim.x;\n",
    "        if(pos < n){\n",
    "            float minDist = 1.0f;\n",
    "            int clusterIndex = 0;\n",
    "            for(int c = 0; c < nClusters; c++){\n",
    "                float dist = euclidian_dist(src[pos], clusters[c]);\n",
    "                if(dist <= minDist){\n",
    "                    clusterIndex = c;\n",
    "                    minDist = dist;\n",
    "                }\n",
    "            }\n",
    "            labels[pos] = clusterIndex;\n",
    "        }\n",
    "    }\n",
    "    \n",
    "    __global__ void calculateClusters(const float* src, const int* labels, int n, int clusterIndex){\n",
    "        extern __shared__ Cluster _clusters[];\n",
    "        int pos = threadIdx.x + blockIdx.x * blockDim.x;\n",
    "        int tid = threadIdx.x;\n",
    "        _clusters[tid] = Cluster();\n",
    "        _clusters[tid].sum = 0.0f;\n",
    "        _clusters[tid].count = 0;\n",
    "        if(pos < n && labels[pos] == clusterIndex){\n",
    "            _clusters[tid].sum = src[pos];\n",
    "            _clusters[tid].count = 1;\n",
    "        }\n",
    "        __syncthreads();\n",
    "        for(unsigned int stride = blockDim.x / 2; stride > 0; stride /= 2){\n",
    "            if(threadIdx.x < stride){\n",
    "                _clusters[tid].sum += _clusters[tid + stride].sum;\n",
    "            }\n",
    "            __syncthreads();\n",
    "            if(threadIdx.x < stride){\n",
    "                _clusters[tid].count += _clusters[tid + stride].count;\n",
    "            }\n",
    "            __syncthreads();\n",
    "        }\n",
    "        __syncthreads();\n",
    "        if(threadIdx.x == 0){\n",
    "            clusters_d[blockIdx.x].sum = _clusters[0].sum;\n",
    "            clusters_d[blockIdx.x].count = _clusters[0].count;\n",
    "        }\n",
    "    }\n",
    "    \n",
    "    __global__ void findCenters(int n, int clusterIndex, float* dst){\n",
    "        extern __shared__ Cluster _clusters[];\n",
    "        int pos = threadIdx.x + blockIdx.x * blockDim.x;\n",
    "        int tid = threadIdx.x;\n",
    "        _clusters[tid] = clusters_d[pos];\n",
    "        __syncthreads();\n",
    "        for(unsigned int stride = blockDim.x / 2; stride > 0; stride /= 2){\n",
    "            if(tid < stride){\n",
    "                _clusters[tid].sum += _clusters[tid + stride].sum;\n",
    "            }\n",
    "            __syncthreads();\n",
    "            if(tid < stride){\n",
    "                _clusters[tid].count += _clusters[tid + stride].count;\n",
    "            }\n",
    "            __syncthreads();\n",
    "        }\n",
    "        __syncthreads();\n",
    "        if(tid == 0){\n",
    "            dst[clusterIndex] = _clusters[0].count > 0 ? _clusters[0].sum / (_clusters[0].count * 1.0f) : 0.0f;\n",
    "        }\n",
    "    }\n",
    "'''\n",
    "\n",
    "def cuda_kmeans(img, n_clusters):\n",
    "        w = img.shape[1]\n",
    "        h = img.shape[0]\n",
    "        n = w * h\n",
    "        max_it = 30\n",
    "\n",
    "        img = cv.blur(img, (13, 13))\n",
    "        src = img.reshape((-1))\n",
    "\n",
    "        module = SourceModule(Template(SRC).render(N=n))\n",
    "        relabel = module.get_function('relabel')\n",
    "        calculate_clusters = module.get_function('calculateClusters')\n",
    "        find_centers = module.get_function('findCenters')\n",
    "\n",
    "        t0 = time() * 1000\n",
    "        centers = np.random.rand(n_clusters).astype(np.float32)\n",
    "\n",
    "        # Image\n",
    "        src_gpu = cuda.mem_alloc(src.nbytes)\n",
    "        cuda.memcpy_htod(src_gpu, src)\n",
    "\n",
    "        # Cluster centers\n",
    "\n",
    "        centers_gpu = cuda.mem_alloc(centers.nbytes)\n",
    "        cuda.memcpy_htod(centers_gpu, centers)\n",
    "\n",
    "        # Labels\n",
    "        labels = np.empty_like(src).astype(np.int32)\n",
    "        labels_gpu = cuda.mem_alloc(labels.nbytes)\n",
    "        cuda.memcpy_htod(labels_gpu, labels)\n",
    "        \n",
    "        start = cuda.Event()\n",
    "        end = cuda.Event()\n",
    "        \n",
    "        t1 = time() * 1000\n",
    "        \n",
    "        start.record()\n",
    "        for it in range(max_it):\n",
    "            relabel(src_gpu, centers_gpu, np.int32(n), np.int32(n_clusters), labels_gpu,\n",
    "                    block=(BLOCKDIM, 1, 1), grid=((n + BLOCKDIM - 1) // BLOCKDIM, 1))\n",
    "            for c in range(n_clusters):\n",
    "                calculate_clusters(src_gpu, labels_gpu, np.int32(n), np.int32(c),\n",
    "                                   block=(BLOCKDIM, 1, 1), grid=((n + BLOCKDIM - 1) // BLOCKDIM, 1),\n",
    "                                   shared=8 * BLOCKDIM)\n",
    "                find_centers(np.int32(n), np.int32(c), centers_gpu,\n",
    "                             block=((n + BLOCKDIM - 1) // BLOCKDIM, 1, 1), grid=((1, 1)),\n",
    "                             shared=8 * (n + BLOCKDIM - 1) // BLOCKDIM)\n",
    "\n",
    "        \n",
    "        end.record()\n",
    "        end.synchronize()\n",
    "        msecs = end.time_since(start)*1e-3\n",
    "        msecs *= 1000\n",
    "        msecs += t1 - t0\n",
    "        \n",
    "        t0 = time() * 1000\n",
    "        cuda.memcpy_dtoh(labels, labels_gpu)\n",
    "        cuda.memcpy_dtoh(centers, centers_gpu)\n",
    "#\n",
    "        labels = labels.reshape((-1))\n",
    "        c_index = np.argmax(centers)\n",
    "        flat = np.full(n, 0, dtype=np.uint8)\n",
    "        flat[labels == c_index] = 1\n",
    "        mask = flat.reshape((h, w))\n",
    "        mask = cv.erode(mask, kernel=K1, iterations=1)\n",
    "        mask = cv.dilate(mask, kernel=K1, iterations=1)\n",
    "        t1 = time() * 1000\n",
    "        msecs += t1 - t0\n",
    "        return mask, msecs\n",
    "\n",
    "cuda_kmeans.is_cuda = True"
   ]
  },
  {
   "cell_type": "markdown",
   "metadata": {},
   "source": [
    "# Profile average time and accuracy (Dice-Sørensen) per image"
   ]
  },
  {
   "cell_type": "code",
   "execution_count": 9,
   "metadata": {},
   "outputs": [],
   "source": [
    "import collections\n",
    "ALGS = collections.OrderedDict()\n",
    "ALGS['K Means'] = kmeans\n",
    "# ALGS['Fuzzy C Means'] = fcm\n",
    "ALGS['Gaussian Mixture'] = gaussian_mixture\n",
    "# ALGS['Multivariate K Means'] = multivariate_kmeans\n",
    "ALGS['CUDA K Means'] = cuda_kmeans\n",
    "\n",
    "\n",
    "def t(alpha, gl):\n",
    "    return scipy.stats.t.ppf(1-(alpha/2), gl)\n",
    "\n",
    "TP_INDEX = 0\n",
    "FP_INDEX = 1\n",
    "FN_INDEX = 2\n",
    "DC_INDEX = 3\n",
    "PR_INDEX = 4\n",
    "RC_INDEX = 5\n",
    "F1_INDEX = 6\n",
    "\n",
    "def calc_accuracy(seg, gt):\n",
    "    size = seg.shape[0] * seg.shape[1]\n",
    "    tp = np.sum(seg[gt==1])\n",
    "    tn = np.sum(seg[gt==0])\n",
    "    \n",
    "    fp = np.sum((gt==0) & (seg==1))\n",
    "    fn = np.sum((gt==1) & (seg==0))\n",
    "    dc = 2.0 * tp / (np.sum(gt) + np.sum(seg)) * 100.0\n",
    "\n",
    "    precision = tp / (tp + fp) * 100.0 \n",
    "    recall = tp / (tp + fn) * 100.0\n",
    "\n",
    "    tp = tp * 100.0 / size\n",
    "    fp = fp * 100.0 / size\n",
    "    fn = fn * 100.0 / size\n",
    "    return dc\n",
    "\n",
    "def profile(alg, data, n_clusters):\n",
    "    avg_time = []\n",
    "    avg_accuracy = []\n",
    "    for data_item in iter(data):\n",
    "        time_it = []\n",
    "        accuracy_it = []\n",
    "        img, gt = data_item[0], data_item[1]\n",
    "        for i in range(N_ITERS):\n",
    "            duration = 0.0\n",
    "            if getattr(alg, 'is_cuda', False):\n",
    "                seg, duration = alg(img, n_clusters)\n",
    "            else:\n",
    "                t0 = time()\n",
    "                seg = alg(img, n_clusters)\n",
    "                t1 = time()\n",
    "                duration = (t1 - t0) * 1000.0\n",
    "            \n",
    "            time_it.append([duration])\n",
    "            accuracy_it.append(calc_accuracy(seg, gt))\n",
    "        avg_time.append(np.mean(time_it))\n",
    "        avg_accuracy.append(np.max(accuracy_it))\n",
    "    return avg_time, avg_accuracy"
   ]
  },
  {
   "cell_type": "code",
   "execution_count": 10,
   "metadata": {
    "scrolled": false
   },
   "outputs": [
    {
     "data": {
      "application/vnd.jupyter.widget-view+json": {
       "model_id": "e9c57ac9607c4906bafb9c180e37602c",
       "version_major": 2,
       "version_minor": 0
      },
      "text/plain": [
       "HBox(children=(IntProgress(value=0, description='Collecting data', max=7), HTML(value='')))"
      ]
     },
     "metadata": {},
     "output_type": "display_data"
    },
    {
     "name": "stdout",
     "output_type": "stream",
     "text": [
      "================================\n",
      "N CLUSTERS =  3\n",
      "================================\n"
     ]
    },
    {
     "data": {
      "application/vnd.jupyter.widget-view+json": {
       "model_id": "799bf4f69d404f66aeb054e4a1dcedaa",
       "version_major": 2,
       "version_minor": 0
      },
      "text/plain": [
       "HBox(children=(IntProgress(value=0, max=3), HTML(value='')))"
      ]
     },
     "metadata": {},
     "output_type": "display_data"
    },
    {
     "name": "stdout",
     "output_type": "stream",
     "text": [
      "Average time per image\n",
      "{'K Means': [24.35152530670166, 41.110825538635254, 93.92101764678955, 15.60981273651123, 20.098114013671875, 22.975778579711914, 20.09742259979248, 29.53495979309082, 46.048712730407715, 24.935173988342285, 17.861199378967285, 135.3639841079712, 18.546438217163086, 16.664671897888184, 19.30069923400879, 17.43783950805664, 22.469401359558105, 13.855504989624023, 34.52329635620117, 29.20403480529785, 85.55412292480469, 19.8972225189209, 22.304511070251465, 18.211913108825684, 25.382351875305176, 26.38227939605713, 24.300003051757812, 15.504002571105957, 22.51424789428711, 14.457082748413086, 19.70043182373047, 25.445961952209473, 39.24908638000488, 14.299154281616211, 18.61262321472168, 17.231225967407227, 40.77267646789551, 50.51264762878418, 18.213915824890137, 78.3273458480835, 33.90040397644043, 61.98720932006836, 31.06672763824463, 16.4337158203125], 'Gaussian Mixture': [190.4585599899292, 208.15799236297607, 277.40352153778076, 222.4971055984497, 231.5296173095703, 170.6127643585205, 211.86141967773438, 367.5898551940918, 236.42375469207764, 189.89944458007812, 222.63669967651367, 991.1643981933594, 198.06363582611084, 204.6999454498291, 211.30659580230713, 194.8375701904297, 197.9773759841919, 200.97081661224365, 246.0216522216797, 220.73657512664795, 269.1112756729126, 200.47802925109863, 197.65393733978271, 206.81684017181396, 189.294171333313, 204.94837760925293, 202.53632068634033, 201.51894092559814, 186.59992218017578, 222.15380668640137, 284.58075523376465, 234.60192680358887, 259.4388961791992, 249.27325248718262, 195.05116939544678, 152.43792533874512, 251.39575004577637, 257.1709632873535, 183.62700939178467, 882.2826147079468, 171.91526889801025, 160.67073345184326, 257.8411102294922, 220.4460859298706], 'CUDA K Means': [36.83480854034424, 22.331812477111818, 22.06997604370117, 22.561250686645508, 23.39396114349365, 21.645863342285157, 21.334130859375, 21.274946022033692, 20.765373611450194, 21.759821319580077, 20.602778816223143, 70.45437240600586, 17.286894607543946, 17.218372535705566, 17.320579719543456, 17.251523399353026, 17.34675178527832, 17.437932205200195, 17.424168968200682, 17.27665195465088, 17.430776023864745, 17.95826950073242, 17.4803897857666, 17.38807201385498, 17.37903594970703, 17.31243133544922, 17.42189826965332, 17.394322013854982, 17.358981323242187, 17.345237922668456, 17.24531078338623, 17.247864151000975, 17.187650299072267, 17.251095962524413, 17.42890567779541, 18.046592903137206, 17.549790573120116, 17.738489151000977, 17.468259239196776, 61.61156044006348, 17.018162536621094, 17.268718242645264, 17.336749172210695, 17.372235679626463]}\n",
      "\n",
      "\n",
      "Average accuracy per image\n",
      "{'K Means': [85.30834340991535, 10.692481161652275, 31.574833919499806, 86.17295168862638, 81.11145800811738, 93.35907335907336, 92.52183406113537, 15.658273831892771, 80.59467918622848, 21.53028692879915, 88.56447688564477, 40.09177775841538, 88.99467936152338, 70.41123370110331, 88.5451197053407, 93.52170916609235, 80.65984072810012, 85.93350383631714, 90.51825677267374, 81.71641791044776, 30.011933174224342, 92.73356401384083, 77.54021584198738, 87.35769922109047, 10.416666666666668, 72.36045729657027, 92.27306826706678, 88.29758349171871, 95.54940910233844, 91.19266055045871, 25.15267570644861, 87.22576629842851, 8.31291405753698, 81.93947282785552, 85.37398761314911, 3.8819095477386933, 18.851201636270666, 14.114696157792725, 95.04264392324095, 95.9902399349329, 73.79335001787629, 33.93025447690858, 80.05930318754633, 86.71742808798646], 'Gaussian Mixture': [75.20397304008513, 56.42540620384048, 8.948399738732855, 61.1764705882353, 64.10767696909272, 94.84276729559748, 92.15497035709362, 0.12705583398037693, 68.08396124865446, 56.913580246913575, 82.62859234852645, 38.963712790597924, 73.89199255121042, 87.26450640542576, 78.89833940866747, 91.54497926807284, 69.9228791773779, 78.73373470576811, 65.12, 68.49700809574094, 8.236567604802204, 75.83289264939185, 64.85647788983708, 79.12324829320877, 40.38972542072631, 65.72734196496572, 92.3076923076923, 85.7500782962731, 91.85714285714286, 81.08747044917257, 22.69543289436817, 60.528128587830075, 64.60176991150442, 63.55889724310777, 83.90941597139452, 3.931293093020443, 0.017691287041132243, 0.26961827728111254, 94.19063733784546, 91.2210935811541, 85.98912588874947, 28.026469443363176, 55.28281750266809, 66.96517412935323], 'CUDA K Means': [85.09732360097324, 89.27628103539355, 47.54491017964072, 86.55077767612077, 83.55326681686515, 94.866693195384, 92.8248044999314, 15.929654645087293, 78.0980906027705, 82.7024436990896, 88.46755957557836, 39.71483220309511, 87.80622075419762, 71.30523108176739, 87.5558867362146, 93.62957819822948, 81.21000581733566, 86.12073682290716, 89.96372430471584, 82.11920529801324, 35.96077006901562, 92.35528060097215, 76.55662348516506, 87.2198667474258, 72.98198799199467, 72.3679727427598, 94.03616775682954, 88.57693366363887, 96.21346886912325, 93.2387706855792, 58.13658288905814, 88.24650571791614, 10.220932827493863, 83.89463154384795, 86.80154142581888, 3.8507519033536775, 20.28985507246377, 13.740288568257492, 95.44962080173349, 95.995115995116, 77.76940467219292, 35.749751737835155, 80.57663125948406, 85.92150170648463]}\n",
      "\n",
      "\n"
     ]
    },
    {
     "data": {
      "application/vnd.jupyter.widget-view+json": {
       "model_id": "b745b5e1a41a4ad0a038800d3f804e3e",
       "version_major": 2,
       "version_minor": 0
      },
      "text/plain": [
       "HBox(children=(IntProgress(value=0, description='Avg time per algorithm (N_CLUSTERS = 3)', max=3), HTML(value=…"
      ]
     },
     "metadata": {},
     "output_type": "display_data"
    },
    {
     "data": {
      "application/vnd.jupyter.widget-view+json": {
       "model_id": "0cb20d3c04dc44e780a1aee6165194c3",
       "version_major": 2,
       "version_minor": 0
      },
      "text/plain": [
       "HBox(children=(IntProgress(value=0, description='Avg acc per algorithm (N_CLUSTERS = 3)', max=3), HTML(value='…"
      ]
     },
     "metadata": {},
     "output_type": "display_data"
    },
    {
     "name": "stdout",
     "output_type": "stream",
     "text": [
      "================================\n",
      "N CLUSTERS =  4\n",
      "================================\n"
     ]
    },
    {
     "data": {
      "application/vnd.jupyter.widget-view+json": {
       "model_id": "d4d174b9aaa749fe906567038f4a48e3",
       "version_major": 2,
       "version_minor": 0
      },
      "text/plain": [
       "HBox(children=(IntProgress(value=0, max=3), HTML(value='')))"
      ]
     },
     "metadata": {},
     "output_type": "display_data"
    },
    {
     "name": "stdout",
     "output_type": "stream",
     "text": [
      "Average time per image\n",
      "{'K Means': [34.55379009246826, 52.33147144317627, 40.482401847839355, 25.377368927001953, 27.9252290725708, 58.33179950714111, 92.64640808105469, 42.62828826904297, 31.56440258026123, 33.90381336212158, 34.4771146774292, 116.2445068359375, 29.966187477111816, 27.884507179260254, 29.745769500732422, 36.858558654785156, 34.833478927612305, 31.784582138061523, 52.022504806518555, 60.6548547744751, 72.03452587127686, 35.86456775665283, 66.94731712341309, 23.981499671936035, 24.672245979309082, 201.41758918762207, 87.2539758682251, 34.247660636901855, 30.23066520690918, 24.625706672668457, 50.49629211425781, 61.48691177368164, 30.083775520324707, 62.25638389587402, 52.9735803604126, 42.10395812988281, 31.957435607910156, 28.225064277648926, 26.433110237121582, 125.42927265167236, 61.03827953338623, 25.53117275238037, 38.55853080749512, 24.89769458770752], 'Gaussian Mixture': [211.57546043395996, 224.04921054840088, 252.81598567962646, 238.27857971191406, 214.07809257507324, 244.58379745483398, 291.32094383239746, 305.39960861206055, 246.01593017578125, 208.0822229385376, 241.67828559875488, 1099.1567850112915, 234.76955890655518, 240.13681411743164, 225.0211477279663, 258.3622694015503, 218.5788631439209, 243.33181381225586, 228.0766487121582, 228.92279624938965, 354.9196720123291, 238.88282775878906, 231.26885890960693, 243.49195957183838, 218.72937679290771, 266.6191101074219, 251.05204582214355, 201.0838508605957, 288.39385509490967, 228.80520820617676, 225.7441520690918, 213.13002109527588, 222.85125255584717, 216.72213077545166, 198.0116367340088, 218.46251487731934, 236.67728900909424, 287.8535985946655, 230.72922229766846, 1076.4047861099243, 217.83154010772705, 186.36860847473145, 220.84119319915771, 228.06158065795898], 'CUDA K Means': [38.16726226806641, 26.36925849914551, 24.865032386779784, 24.050452041625977, 23.450982093811035, 22.915615463256835, 23.085965156555176, 23.557848167419433, 23.559387588500975, 23.331110382080077, 23.385511779785155, 80.71144104003906, 21.379326820373535, 21.340747833251953, 21.36584587097168, 21.378608894348144, 21.317017555236816, 21.39227466583252, 21.36177616119385, 21.356786155700682, 21.427425384521484, 21.44029483795166, 21.36987724304199, 21.55924892425537, 21.433473205566408, 21.26846561431885, 21.37935028076172, 21.32751636505127, 21.311457633972168, 21.326778411865234, 21.404199409484864, 21.40217399597168, 21.395039367675782, 21.3745174407959, 21.494205665588378, 21.53818702697754, 21.30662097930908, 21.451762771606447, 21.37277545928955, 82.4749969482422, 21.615534782409668, 23.286964225769044, 21.714706039428712, 22.90884609222412]}\n",
      "\n",
      "\n",
      "Average accuracy per image\n",
      "{'K Means': [84.22674060382008, 88.52119958634952, 77.19107240065324, 85.95117457392907, 83.54430379746836, 95.17241379310344, 82.85536159600998, 74.31984074319841, 79.91202346041055, 81.17529880478087, 73.53057199211045, 45.32381508048186, 89.64131994261119, 74.73118279569893, 87.70491803278688, 83.57572231917781, 81.85554903112156, 84.7970479704797, 89.8444647758463, 83.64703006599854, 49.74647887323943, 92.19232465813852, 66.71736375158429, 86.10337356855463, 71.83288409703505, 71.54639175257732, 94.69964664310953, 88.53096362121633, 84.76702508960572, 92.8605654048874, 80.93951361463313, 88.55656697009103, 75.08196721311475, 85.60338743824983, 86.28211342704799, 7.471432757105186, 39.11649447809049, 87.31942215088283, 95.05004057343793, 95.91220626631853, 87.34069668649109, 86.38036809815951, 80.0, 85.43273350471294], 'Gaussian Mixture': [84.91905708605509, 86.48648648648648, 78.42484747642817, 85.36850693500136, 77.8140778140778, 86.32840028188865, 92.60318757662444, 83.72093023255815, 81.67865707434053, 81.96411709159584, 91.47405479871422, 56.931309109009455, 89.29474571508851, 67.36942980354576, 89.62843295638126, 93.30379962514908, 73.30316742081448, 90.57574782888389, 89.383272317657, 82.054890921886, 63.0912925579994, 92.17002237136465, 73.04630969609262, 85.2530779753762, 70.625, 71.36563876651982, 84.29919137466307, 85.50688360450563, 77.21196690006366, 89.53749438706781, 81.94570135746606, 88.03676121058469, 79.3073593073593, 77.76777677767777, 78.29751369574379, 11.134211134211135, 60.313771063335274, 86.06060606060606, 95.09883563498511, 94.6087621962885, 80.03101977510663, 90.47619047619048, 78.18052594171996, 80.56968463886062], 'CUDA K Means': [84.50355706773894, 88.68435300487276, 74.97403946002078, 85.87291795188156, 84.54154253558424, 95.265780730897, 85.3922315308454, 79.68069666182875, 83.30676383511728, 82.06656731246895, 87.70577933450087, 55.3979376744716, 89.85340615119287, 77.67207610520425, 86.77966101694915, 93.36609336609337, 82.22490931076179, 85.26277104005881, 89.1432106402722, 83.34965719882467, 55.0328022492971, 92.14894571556752, 75.91209729037764, 85.38048626460373, 73.08743169398907, 71.56282631395754, 95.44364508393285, 88.88888888888889, 88.9144831557731, 93.89763779527559, 79.13300492610837, 89.15860259143841, 79.51388888888889, 85.25052928722654, 87.88927335640139, 7.755162680136681, 49.57825679475164, 89.14664457332229, 95.42089388538525, 95.92069837643795, 89.84615384615384, 83.86336866902238, 81.60642570281125, 84.84065460809647]}\n",
      "\n",
      "\n"
     ]
    },
    {
     "data": {
      "application/vnd.jupyter.widget-view+json": {
       "model_id": "7859af3e779e47348147a33a39dc1be0",
       "version_major": 2,
       "version_minor": 0
      },
      "text/plain": [
       "HBox(children=(IntProgress(value=0, description='Avg time per algorithm (N_CLUSTERS = 4)', max=3), HTML(value=…"
      ]
     },
     "metadata": {},
     "output_type": "display_data"
    },
    {
     "data": {
      "application/vnd.jupyter.widget-view+json": {
       "model_id": "919995b828374e7bad0d259173a4f2bb",
       "version_major": 2,
       "version_minor": 0
      },
      "text/plain": [
       "HBox(children=(IntProgress(value=0, description='Avg acc per algorithm (N_CLUSTERS = 4)', max=3), HTML(value='…"
      ]
     },
     "metadata": {},
     "output_type": "display_data"
    },
    {
     "name": "stdout",
     "output_type": "stream",
     "text": [
      "================================\n",
      "N CLUSTERS =  5\n",
      "================================\n"
     ]
    },
    {
     "data": {
      "application/vnd.jupyter.widget-view+json": {
       "model_id": "b607c49b3c6242d2a98e6f592b082d41",
       "version_major": 2,
       "version_minor": 0
      },
      "text/plain": [
       "HBox(children=(IntProgress(value=0, max=3), HTML(value='')))"
      ]
     },
     "metadata": {},
     "output_type": "display_data"
    },
    {
     "name": "stdout",
     "output_type": "stream",
     "text": [
      "Average time per image\n",
      "{'K Means': [68.91276836395264, 39.756155014038086, 57.72838592529297, 33.25331211090088, 36.83369159698486, 34.5217227935791, 110.04400253295898, 75.43168067932129, 52.512383460998535, 32.140493392944336, 41.103339195251465, 246.54123783111572, 50.45497417449951, 42.668819427490234, 34.29560661315918, 48.590779304504395, 61.9152307510376, 32.48310089111328, 32.11197853088379, 38.359999656677246, 105.74750900268555, 56.99045658111572, 56.77385330200195, 26.358580589294434, 40.527963638305664, 69.10595893859863, 36.74812316894531, 64.14153575897217, 40.56074619293213, 48.123764991760254, 29.063796997070312, 25.054407119750977, 69.67425346374512, 42.96398162841797, 25.524163246154785, 204.88147735595703, 47.88665771484375, 73.47919940948486, 98.55732917785645, 150.52828788757324, 77.72603034973145, 83.54120254516602, 48.20237159729004, 37.80224323272705], 'Gaussian Mixture': [278.5569667816162, 331.57217502593994, 300.95906257629395, 269.95980739593506, 276.54125690460205, 266.0139322280884, 420.4505920410156, 318.5741662979126, 252.38728523254395, 251.07266902923584, 267.1112537384033, 1124.6596097946167, 254.1152000427246, 304.452919960022, 295.466685295105, 279.6405076980591, 260.2187395095825, 249.54149723052979, 265.6853675842285, 271.2389945983887, 329.83808517456055, 243.4896469116211, 287.63771057128906, 261.55340671539307, 236.63806915283203, 327.6419401168823, 311.36977672576904, 239.21477794647217, 271.71971797943115, 252.78608798980713, 308.90393257141113, 266.34228229522705, 260.04114151000977, 284.6161127090454, 240.77208042144775, 276.14145278930664, 277.6501417160034, 275.78022480010986, 252.90727615356445, 1208.347725868225, 279.4468641281128, 214.00165557861328, 279.5971155166626, 288.2431745529175], 'CUDA K Means': [51.36226348876953, 31.588138580322266, 29.75700435638428, 29.30229206085205, 27.96253776550293, 26.782761001586913, 26.231597709655762, 27.46450710296631, 26.46287593841553, 26.42000503540039, 27.28367462158203, 99.35952072143554, 27.30888080596924, 27.553972434997558, 26.267441177368163, 26.951872634887696, 28.002614974975586, 26.397177505493165, 28.137968444824217, 26.29880027770996, 26.59925994873047, 26.40015983581543, 26.454546165466308, 26.379789924621583, 26.26603126525879, 27.94705581665039, 26.89466075897217, 27.818528175354004, 26.892314147949218, 27.139554595947267, 27.6415678024292, 26.352092742919922, 27.216473388671876, 28.484056854248045, 28.185053443908693, 28.06305503845215, 27.235783195495607, 26.463237380981447, 26.503877258300783, 99.38797531127929, 27.164243125915526, 28.02345542907715, 26.372493171691893, 27.898932647705077]}\n",
      "\n",
      "\n",
      "Average accuracy per image\n",
      "{'K Means': [80.39735099337749, 82.85209192692987, 73.64341085271317, 71.4913051115405, 85.12669849430775, 94.84708839547548, 65.52094522019334, 80.79268292682927, 77.05041384499623, 80.6841046277666, 72.67672756155679, 50.646410050398075, 89.61479198767334, 81.45968216597998, 69.54624781849913, 82.5508607198748, 82.31046931407943, 69.34505126595522, 84.84648398811488, 84.8852545502506, 61.74193548387097, 88.62671071260029, 59.4048594048594, 79.58600999286224, 70.11331444759207, 56.694286960314, 87.5776397515528, 83.88349514563107, 82.5928180158247, 90.55201698513801, 81.20789779326365, 86.57148020965118, 83.42440801457195, 84.82897384305835, 88.04071246819338, 8.088354718206919, 70.7492795389049, 86.80851063829788, 92.74356750505926, 93.86466924760141, 92.14515388148828, 90.09247027741083, 81.70829975825947, 78.12215132178669], 'Gaussian Mixture': [84.41717791411043, 89.35303107488538, 79.7945205479452, 85.23790158601058, 84.22097254383063, 87.21965112139551, 64.28184281842817, 80.12093726379442, 77.173640691556, 81.34500230308613, 67.38366080661841, 44.763132452465356, 89.60093212933295, 68.82352941176471, 89.72776769509981, 81.78775349478244, 75.625, 63.905841325196164, 90.58374889997066, 83.28899637243047, 60.309973045822105, 92.46861924686193, 66.29299363057325, 85.20645337708504, 71.1168164313222, 57.53779697624191, 90.5644118914261, 85.13470681458003, 76.85924034471753, 92.84351145038168, 82.27988467509427, 88.74807330022264, 70.51578137028484, 83.57843137254902, 84.36578171091446, 11.577424023154848, 71.73119065010957, 87.5, 94.89822891884747, 96.16895086960007, 92.50234301780694, 88.63049095607235, 79.41818181818182, 86.573485811097], 'CUDA K Means': [81.19461765671151, 83.11688311688312, 76.12412919569348, 85.68333075375328, 85.71428571428571, 81.35593220338984, 80.78082843993018, 83.53808353808354, 77.41935483870968, 81.5670517327976, 73.40572556762093, 49.14576517629953, 89.97493734335839, 89.71428571428571, 79.28946306015341, 83.93582060699786, 82.71604938271605, 68.79596553897878, 85.33945555919973, 84.13942177789787, 61.61490683229813, 88.47795163584638, 71.78403755868544, 83.8070059484468, 72.57731958762886, 66.94152923538232, 94.68954248366013, 83.93613554903877, 82.91350531107739, 93.26530612244898, 81.15942028985508, 89.27622841965471, 86.52751423149905, 85.33333333333334, 88.9002557544757, 12.179487179487179, 74.50331125827815, 88.90742285237698, 93.25648414985591, 94.14628005539004, 92.22011385199241, 89.83957219251337, 82.59041211101767, 82.20264317180617]}\n",
      "\n",
      "\n"
     ]
    },
    {
     "data": {
      "application/vnd.jupyter.widget-view+json": {
       "model_id": "f09629a6c5c04fec971c7e3d0dcbfabf",
       "version_major": 2,
       "version_minor": 0
      },
      "text/plain": [
       "HBox(children=(IntProgress(value=0, description='Avg time per algorithm (N_CLUSTERS = 5)', max=3), HTML(value=…"
      ]
     },
     "metadata": {},
     "output_type": "display_data"
    },
    {
     "data": {
      "application/vnd.jupyter.widget-view+json": {
       "model_id": "718ea438f8f8424e820020be6272cc18",
       "version_major": 2,
       "version_minor": 0
      },
      "text/plain": [
       "HBox(children=(IntProgress(value=0, description='Avg acc per algorithm (N_CLUSTERS = 5)', max=3), HTML(value='…"
      ]
     },
     "metadata": {},
     "output_type": "display_data"
    },
    {
     "name": "stdout",
     "output_type": "stream",
     "text": [
      "================================\n",
      "N CLUSTERS =  6\n",
      "================================\n"
     ]
    },
    {
     "data": {
      "application/vnd.jupyter.widget-view+json": {
       "model_id": "2b32486d28b9444990f4d3c34faf5a1f",
       "version_major": 2,
       "version_minor": 0
      },
      "text/plain": [
       "HBox(children=(IntProgress(value=0, max=3), HTML(value='')))"
      ]
     },
     "metadata": {},
     "output_type": "display_data"
    },
    {
     "name": "stdout",
     "output_type": "stream",
     "text": [
      "Average time per image\n",
      "{'K Means': [61.71731948852539, 62.410831451416016, 97.3686933517456, 48.74606132507324, 44.50550079345703, 72.84531593322754, 128.0198335647583, 89.11230564117432, 43.166184425354004, 63.259100914001465, 53.93989086151123, 215.71178436279297, 98.04544448852539, 85.47756671905518, 150.74551105499268, 100.51696300506592, 82.81059265136719, 44.35310363769531, 50.13110637664795, 51.450347900390625, 56.996726989746094, 55.286598205566406, 133.21335315704346, 52.8125524520874, 56.75954818725586, 47.241830825805664, 129.69329357147217, 72.72536754608154, 47.825050354003906, 89.73920345306396, 39.59000110626221, 38.730740547180176, 131.91115856170654, 70.99182605743408, 66.81561470031738, 87.85502910614014, 78.67660522460938, 100.3673791885376, 104.69973087310791, 235.18743515014648, 84.31072235107422, 91.15135669708252, 48.06082248687744, 116.43178462982178], 'Gaussian Mixture': [277.14829444885254, 314.853572845459, 339.54484462738037, 342.8267002105713, 340.39599895477295, 325.86236000061035, 383.62717628479004, 368.9663887023926, 307.72974491119385, 302.1206855773926, 357.1157217025757, 1251.5023946762085, 348.34611415863037, 329.8680067062378, 332.7256202697754, 334.08727645874023, 283.054518699646, 298.7297058105469, 299.4272232055664, 312.3791217803955, 338.4124517440796, 311.77706718444824, 330.5973768234253, 311.039137840271, 322.871470451355, 350.8226156234741, 375.0112533569336, 347.91393280029297, 316.4630651473999, 345.38283348083496, 307.6881170272827, 312.4369144439697, 324.1575002670288, 379.9147605895996, 344.00291442871094, 328.2978296279907, 340.02811908721924, 307.8652858734131, 347.37887382507324, 1308.7818384170532, 303.45520973205566, 263.6158227920532, 329.0735960006714, 286.1727714538574], 'CUDA K Means': [52.97322006225586, 37.02572746276856, 33.78124732971192, 31.638967514038086, 32.12889347076416, 33.20379009246826, 31.866510772705077, 31.446688652038574, 31.236613845825197, 31.220482444763185, 31.233965110778808, 114.7094825744629, 31.16709156036377, 31.187290000915528, 31.93098850250244, 31.34336929321289, 31.23945560455322, 32.14265041351318, 31.93186721801758, 31.413067245483397, 31.430831336975096, 33.50787544250488, 33.85258541107178, 31.483473587036134, 31.483926391601564, 31.275463676452638, 31.4591007232666, 32.76648082733154, 31.237350082397462, 31.623837089538576, 31.991589164733888, 32.25840873718262, 32.02317161560059, 31.266205406188966, 32.429592514038085, 32.5052770614624, 32.82024574279785, 32.25091342926025, 32.53668727874756, 116.77869720458985, 32.647911643981935, 31.378646850585938, 32.459038162231444, 31.369648742675782]}\n",
      "\n",
      "\n",
      "Average accuracy per image\n",
      "{'K Means': [79.90669776741086, 81.0843373493976, 70.47872340425532, 70.9700176366843, 85.0481125092524, 77.25450901803607, 63.492640377975654, 83.51648351648352, 75.42566709021601, 72.3568281938326, 72.01596806387226, 26.774256270659148, 85.61939554965127, 88.01775147928994, 66.39857015192135, 81.32041905514924, 75.27559055118111, 67.34650520501381, 84.28761651131825, 84.72560151392268, 58.50104094378904, 70.06087437742114, 58.53793103448276, 78.35875090777051, 69.39068100358423, 54.20981539846916, 78.57829010566762, 82.65440210249672, 80.44623489308955, 88.70703764320785, 80.50847457627118, 85.71952337305224, 85.95825426944972, 78.62728062554301, 82.21680876979293, 15.726495726495726, 75.04187604690117, 86.79896462467644, 79.109364767518, 93.77817094233119, 89.70736629667003, 87.03703703703704, 81.11201962387572, 75.33799533799534], 'Gaussian Mixture': [84.52599388379205, 88.78600823045268, 76.08286252354048, 80.18312622629169, 84.27672955974843, 74.55197132616487, 64.4043321299639, 80.12093726379442, 77.90784557907845, 79.71237801746275, 66.27737226277372, 24.343152866242036, 89.8041474654378, 87.8721859114016, 90.17341040462428, 81.17949732831981, 75.37372147915028, 63.28005255090869, 90.56271981242674, 83.97135095085207, 60.71547977265128, 91.9454770755886, 59.6395412342982, 79.6718972895863, 71.13665389527458, 56.049274087109545, 82.74582560296847, 84.76736775015934, 75.82877373672353, 93.34637964774952, 82.18198077353007, 88.3989501312336, 66.86131386861314, 79.94869602394186, 84.37869822485207, 16.133518776077885, 75.77019150707743, 87.34491315136476, 80.90322580645162, 84.12376830279031, 89.96990972918756, 90.47619047619048, 80.39664378337147, 87.58389261744966], 'CUDA K Means': [80.55739880557398, 80.8227465214761, 73.01173402868318, 79.10817506193229, 84.73167044595617, 80.37109375, 61.63197642291398, 85.29664660361135, 76.67924528301887, 80.91603053435115, 71.14147909967846, 10.486725663716815, 89.96235884567126, 86.93659281894575, 78.50467289719626, 78.87835384305023, 82.78433809819764, 68.6579722339083, 83.69127516778524, 84.19640461497183, 61.80811808118081, 87.1401151631478, 72.30266230733302, 80.08504606661941, 71.09540636042404, 53.127833182230276, 83.07123034227567, 85.25007964319848, 81.10939907550076, 89.90825688073394, 80.66374740723668, 88.70234347674013, 88.18897637795276, 84.0227088402271, 89.39472322814278, 31.88831741366642, 76.02131438721138, 88.98163606010017, 92.88194444444444, 85.55707139608913, 90.13657056145675, 91.08635097493037, 82.41206030150754, 69.36980947728382]}\n",
      "\n",
      "\n"
     ]
    },
    {
     "data": {
      "application/vnd.jupyter.widget-view+json": {
       "model_id": "901667f3cae74e908e7425be17f7053c",
       "version_major": 2,
       "version_minor": 0
      },
      "text/plain": [
       "HBox(children=(IntProgress(value=0, description='Avg time per algorithm (N_CLUSTERS = 6)', max=3), HTML(value=…"
      ]
     },
     "metadata": {},
     "output_type": "display_data"
    },
    {
     "data": {
      "application/vnd.jupyter.widget-view+json": {
       "model_id": "5f7b91aebe8741da8db14ad191ee8018",
       "version_major": 2,
       "version_minor": 0
      },
      "text/plain": [
       "HBox(children=(IntProgress(value=0, description='Avg acc per algorithm (N_CLUSTERS = 6)', max=3), HTML(value='…"
      ]
     },
     "metadata": {},
     "output_type": "display_data"
    },
    {
     "name": "stdout",
     "output_type": "stream",
     "text": [
      "================================\n",
      "N CLUSTERS =  7\n",
      "================================\n"
     ]
    },
    {
     "data": {
      "application/vnd.jupyter.widget-view+json": {
       "model_id": "3786599296f141dfb8561b205c316763",
       "version_major": 2,
       "version_minor": 0
      },
      "text/plain": [
       "HBox(children=(IntProgress(value=0, max=3), HTML(value='')))"
      ]
     },
     "metadata": {},
     "output_type": "display_data"
    },
    {
     "name": "stdout",
     "output_type": "stream",
     "text": [
      "Average time per image\n",
      "{'K Means': [105.3105354309082, 123.82678985595703, 151.88417434692383, 91.64347648620605, 44.91300582885742, 55.15315532684326, 110.49234867095947, 47.46580123901367, 141.37368202209473, 55.54862022399902, 72.58026599884033, 297.2116947174072, 109.59651470184326, 115.22345542907715, 68.70081424713135, 51.82480812072754, 74.40392971038818, 181.74140453338623, 151.16333961486816, 140.81847667694092, 49.494314193725586, 60.396742820739746, 139.7073745727539, 150.17218589782715, 96.11673355102539, 184.2250108718872, 87.12761402130127, 77.29251384735107, 168.8978672027588, 45.22440433502197, 68.36519241333008, 89.80391025543213, 45.323801040649414, 77.33991146087646, 137.09092140197754, 53.803205490112305, 97.34957218170166, 58.258914947509766, 55.48567771911621, 283.5893392562866, 125.38106441497803, 98.86660575866699, 57.891106605529785, 186.7414951324463], 'Gaussian Mixture': [345.24784088134766, 432.2021484375, 386.5617275238037, 378.4851551055908, 440.11032581329346, 365.62323570251465, 357.56494998931885, 347.4005699157715, 356.1335802078247, 348.6116886138916, 381.58981800079346, 1744.8944807052612, 438.960599899292, 371.3313817977905, 397.5006341934204, 363.79950046539307, 356.6946506500244, 403.6555767059326, 370.41804790496826, 360.47089099884033, 407.54594802856445, 383.60755443573, 374.8542547225952, 421.13592624664307, 329.9802780151367, 453.1973123550415, 394.31097507476807, 397.011399269104, 406.16652965545654, 380.1870822906494, 370.9900140762329, 380.3741693496704, 360.7238292694092, 398.5825777053833, 369.92719173431396, 372.96388149261475, 396.4968681335449, 380.7098865509033, 383.2247018814087, 1742.8832530975342, 367.3357963562012, 351.11982822418213, 440.78617095947266, 375.17497539520264], 'CUDA K Means': [62.99323959350586, 44.068946075439456, 39.174015045166016, 36.18296813964844, 38.284779739379886, 37.715257263183595, 36.534338760375974, 37.66265296936035, 36.92653541564941, 36.81168327331543, 36.35852165222168, 134.36478424072266, 38.99111480712891, 36.77640228271484, 38.78088150024414, 36.76530456542969, 36.364406967163085, 37.129173278808594, 37.04855537414551, 37.56252326965332, 38.79637756347656, 36.795929718017575, 36.87532043457031, 38.36779670715332, 38.57320442199707, 36.13870277404785, 36.409088897705075, 36.15440292358399, 36.17491226196289, 36.22864418029785, 36.31976203918457, 37.44000129699707, 36.40527420043945, 36.40997123718262, 41.32042770385742, 37.47712631225586, 47.397911834716794, 48.279076766967776, 48.61692123413086, 151.44581909179686, 43.31330909729004, 43.641900634765626, 43.56068382263184, 44.001325607299805]}\n",
      "\n",
      "\n",
      "Average accuracy per image\n",
      "{'K Means': [66.84574059861858, 79.95124923826936, 67.88866259334692, 68.39359597049828, 73.45820009136592, 72.99118714359773, 50.626367070988266, 83.79096545615589, 72.07724425887265, 57.17806531115218, 64.41108056671601, 25.574995085512093, 83.27086882453152, 82.1806346623271, 63.719234275296266, 80.58870326173428, 75.05938242280284, 60.34444195929323, 68.28125, 75.18602394047234, 56.22574955908289, 69.91689750692521, 49.44360902255639, 71.03393843725335, 68.73646209386281, 45.71713147410358, 70.62436028659161, 68.88556469708303, 75.5082284607938, 87.85357737104825, 75.88670579229395, 85.02129235326792, 88.5593220338983, 76.25835189309576, 81.61764705882352, 29.529243937232525, 75.31219980787705, 85.5085508550855, 76.97434188603799, 84.72355824286565, 86.15713522180653, 81.69934640522875, 57.56302521008403, 68.01579466929911], 'Gaussian Mixture': [66.22976098689283, 89.29663608562691, 76.42276422764228, 70.85613415710503, 74.83115713642503, 72.59490379615184, 51.365255243371585, 83.36025848142164, 74.66121196624904, 79.75334018499485, 61.60155406863803, 5.534709193245779, 88.12359188928227, 87.83382789317507, 56.45703312530005, 81.01466508125247, 75.47169811320755, 54.384328358208954, 90.45521292217327, 72.38479650184998, 60.75358452817606, 67.19457013574662, 50.951248513674194, 79.49910554561718, 71.96710075394105, 54.26636568848758, 77.34109655507035, 84.64491362763916, 70.18842530282639, 93.25513196480938, 82.1899441340782, 88.3166929409704, 86.68171557562077, 79.05172413793103, 81.39963167587477, 33.003300330033, 75.68523430592397, 87.60991207034373, 80.67226890756302, 84.16643652766271, 88.39378238341969, 80.19966722129783, 80.45801526717557, 69.81499513145083], 'CUDA K Means': [67.88432267884322, 79.60808328230252, 71.72050098879367, 78.86811186496773, 84.56273764258555, 78.35153922542204, 57.2405929304447, 85.17566409597258, 76.36822194199243, 76.17521367521367, 63.893016344725105, 4.503216583273767, 89.80490874764003, 86.26543209876543, 75.57220141489805, 77.44437640334763, 82.72785213511791, 59.93719156572453, 82.84263959390863, 84.14468316562414, 60.36243822075783, 85.01469147894221, 62.450383699391374, 79.22636103151862, 68.84531590413944, 51.72890733056709, 81.97945845004668, 60.263053009167, 76.85924034471753, 88.93780957622455, 80.4352859458208, 85.8348623853211, 88.27586206896552, 77.13401149933658, 82.48175182481752, 33.980582524271846, 76.55954631379961, 88.4083044982699, 79.9349593495935, 82.64316358888267, 89.33129147524247, 90.85794655414908, 58.60271115745568, 75.74349442379183]}\n",
      "\n",
      "\n"
     ]
    },
    {
     "data": {
      "application/vnd.jupyter.widget-view+json": {
       "model_id": "1210c36c9d2f4f00a51184cdc7f5ee5e",
       "version_major": 2,
       "version_minor": 0
      },
      "text/plain": [
       "HBox(children=(IntProgress(value=0, description='Avg time per algorithm (N_CLUSTERS = 7)', max=3), HTML(value=…"
      ]
     },
     "metadata": {},
     "output_type": "display_data"
    },
    {
     "data": {
      "application/vnd.jupyter.widget-view+json": {
       "model_id": "78f941f6633244348b634efe5cbdc635",
       "version_major": 2,
       "version_minor": 0
      },
      "text/plain": [
       "HBox(children=(IntProgress(value=0, description='Avg acc per algorithm (N_CLUSTERS = 7)', max=3), HTML(value='…"
      ]
     },
     "metadata": {},
     "output_type": "display_data"
    },
    {
     "name": "stdout",
     "output_type": "stream",
     "text": [
      "================================\n",
      "N CLUSTERS =  8\n",
      "================================\n"
     ]
    },
    {
     "data": {
      "application/vnd.jupyter.widget-view+json": {
       "model_id": "05197cb741ef4fe481d41f4661e5a4dc",
       "version_major": 2,
       "version_minor": 0
      },
      "text/plain": [
       "HBox(children=(IntProgress(value=0, max=3), HTML(value='')))"
      ]
     },
     "metadata": {},
     "output_type": "display_data"
    },
    {
     "name": "stdout",
     "output_type": "stream",
     "text": [
      "Average time per image\n",
      "{'K Means': [93.31529140472412, 78.80744934082031, 75.98686218261719, 65.75784683227539, 281.77154064178467, 154.1322946548462, 225.25978088378906, 85.63966751098633, 124.26989078521729, 89.8632287979126, 114.33167457580566, 852.0599603652954, 74.65236186981201, 273.89400005340576, 82.31589794158936, 142.1680212020874, 85.70668697357178, 67.93172359466553, 102.60515213012695, 79.97963428497314, 84.26671028137207, 99.13392066955566, 138.5984182357788, 114.05670642852783, 208.622145652771, 74.14672374725342, 58.556389808654785, 59.90478992462158, 54.36906814575195, 71.10044956207275, 90.9813642501831, 102.05252170562744, 128.5797119140625, 53.03919315338135, 70.2568769454956, 271.22809886932373, 79.07044887542725, 83.5869550704956, 109.64181423187256, 784.7817182540894, 161.2502098083496, 313.6073112487793, 107.61106014251709, 76.85253620147705], 'Gaussian Mixture': [408.19759368896484, 421.8465805053711, 483.64574909210205, 399.59402084350586, 417.3548460006714, 418.2817220687866, 458.8768720626831, 449.11489486694336, 364.9261474609375, 354.5982360839844, 439.62152004241943, 1699.867582321167, 437.1556282043457, 473.1173276901245, 390.66171646118164, 404.84588146209717, 387.92991638183594, 467.86048412323, 406.9399118423462, 430.11295795440674, 529.1629791259766, 476.28142833709717, 460.66551208496094, 425.596284866333, 396.9907522201538, 530.5750608444214, 428.6099910736084, 418.9805507659912, 465.0919437408447, 374.87823963165283, 403.95750999450684, 437.78979778289795, 417.7037715911865, 418.616247177124, 422.30286598205566, 427.3888826370239, 420.39687633514404, 401.349139213562, 408.27951431274414, 1846.8393087387085, 462.72830963134766, 377.18820571899414, 439.03443813323975, 418.29512119293213], 'CUDA K Means': [65.44661445617676, 45.668806838989255, 42.27502784729004, 41.331917953491214, 41.32958335876465, 40.86036911010742, 40.853620529174805, 42.07527465820313, 42.072317886352536, 41.375130844116214, 41.11048889160156, 153.2504653930664, 41.66811103820801, 41.017493057250974, 41.09965438842774, 41.44943962097168, 41.375567245483396, 41.51292839050293, 41.778622436523435, 41.04573097229004, 40.96120376586914, 41.27815246582031, 41.54709053039551, 42.28401145935059, 42.84407997131348, 42.27895164489746, 42.5157886505127, 42.50896873474121, 47.12161026000977, 41.53655319213867, 46.68693466186524, 42.19821968078613, 41.8475341796875, 41.51808853149414, 41.19878959655762, 41.5792236328125, 41.33696517944336, 41.47856101989746, 42.15062065124512, 153.69359436035157, 46.252693557739256, 42.08796691894531, 41.05708618164063, 41.27686882019043]}\n",
      "\n",
      "\n",
      "Average accuracy per image\n",
      "{'K Means': [63.43959071231799, 64.43514644351464, 64.86111111111111, 68.20392722032067, 62.93494704992436, 68.77343331547938, 46.34894661484966, 74.74949899799599, 61.72073342736248, 55.57632398753894, 60.72980017376195, 3.997127812350407, 71.06366755623333, 81.44499178981938, 62.90692342961945, 65.1695486189086, 67.49116607773851, 57.73524720893142, 67.45283018867924, 70.13076393668273, 54.220314735336196, 66.74233825198638, 39.64786436256929, 68.4168012924071, 49.0787269681742, 43.06269270298047, 70.62436028659161, 81.1390284757119, 68.9538043478261, 67.28232189973615, 37.83783783783784, 70.6283280085197, 79.69735182849938, 74.86437613019892, 76.45926876202694, 30.347890451517394, 74.48275862068967, 85.35262206148282, 73.08353386043314, 80.00190730497808, 78.96895137668423, 78.37837837837837, 53.08775731310943, 54.515778019586506], 'Gaussian Mixture': [64.92798754379136, 68.51351351351352, 75.66204287515762, 69.56676769477626, 74.0909090909091, 63.73748609566184, 50.388368850826524, 84.77366255144034, 68.8954265846483, 75.96153846153845, 60.45701849836779, 5.136663524976438, 78.2078853046595, 84.41971383147853, 56.319077366650646, 63.66939146230699, 75.27559055118111, 53.220498354489884, 69.40356312935708, 71.11567419575633, 59.60219478737997, 64.97987349051179, 40.40272815849302, 70.9090909090909, 49.331103678929765, 53.02197802197802, 69.5562435500516, 84.47722899294419, 66.36647038448216, 67.01916721744877, 81.97767145135566, 72.01854193004635, 85.21536670547147, 78.57762359063312, 81.39963167587477, 34.52484742807324, 75.66539923954373, 87.60991207034373, 78.75205254515599, 80.6336859080776, 87.2688853671421, 79.59866220735786, 80.88119590873329, 57.917109458023376], 'CUDA K Means': [74.5702005730659, 78.23383084577115, 69.83277591973244, 71.4461430328589, 84.22264875239924, 71.66055526453641, 48.48729326341267, 85.9375, 74.11402157164869, 72.98630136986301, 59.07692307692308, 2.963322807869808, 89.80490874764003, 83.54838709677419, 66.815144766147, 65.19982038616973, 75.31847133757962, 59.77992364697956, 74.64892830746489, 84.04858299595142, 60.33003300330033, 68.38565022421524, 47.19101123595505, 76.75111773472429, 68.27133479212254, 40.41558441558442, 74.91340920336467, 81.5903775476111, 74.00391900718485, 88.63134657836645, 80.16779305523188, 86.62674650698602, 88.03165182987142, 77.89473684210526, 82.62454434993924, 41.11111111111111, 75.8494031221304, 87.73168578993821, 80.63368897510507, 85.4163820971634, 89.10485933503837, 90.80622347949081, 75.1147842056933, 58.21845174973489]}\n",
      "\n",
      "\n"
     ]
    },
    {
     "data": {
      "application/vnd.jupyter.widget-view+json": {
       "model_id": "ce736cc7a333474890ecd3a5e32f8a8f",
       "version_major": 2,
       "version_minor": 0
      },
      "text/plain": [
       "HBox(children=(IntProgress(value=0, description='Avg time per algorithm (N_CLUSTERS = 8)', max=3), HTML(value=…"
      ]
     },
     "metadata": {},
     "output_type": "display_data"
    },
    {
     "data": {
      "application/vnd.jupyter.widget-view+json": {
       "model_id": "64340318e12247a2879cac51db78e9fd",
       "version_major": 2,
       "version_minor": 0
      },
      "text/plain": [
       "HBox(children=(IntProgress(value=0, description='Avg acc per algorithm (N_CLUSTERS = 8)', max=3), HTML(value='…"
      ]
     },
     "metadata": {},
     "output_type": "display_data"
    },
    {
     "name": "stdout",
     "output_type": "stream",
     "text": [
      "================================\n",
      "N CLUSTERS =  9\n",
      "================================\n"
     ]
    },
    {
     "data": {
      "application/vnd.jupyter.widget-view+json": {
       "model_id": "c481584d62044217888f707283998ad6",
       "version_major": 2,
       "version_minor": 0
      },
      "text/plain": [
       "HBox(children=(IntProgress(value=0, max=3), HTML(value='')))"
      ]
     },
     "metadata": {},
     "output_type": "display_data"
    },
    {
     "name": "stdout",
     "output_type": "stream",
     "text": [
      "Average time per image\n",
      "{'K Means': [82.67688751220703, 59.458279609680176, 87.55183219909668, 186.8659496307373, 76.54368877410889, 74.67875480651855, 337.151575088501, 327.2664785385132, 84.79278087615967, 115.4510498046875, 131.736421585083, 510.57379245758057, 100.07791519165039, 105.16037940979004, 74.84550476074219, 80.45501708984375, 63.366079330444336, 102.9897689819336, 105.76579570770264, 98.11410903930664, 75.66497325897217, 140.30468463897705, 88.3436918258667, 104.47890758514404, 89.49136734008789, 178.35659980773926, 88.24636936187744, 141.7790651321411, 191.6494369506836, 88.00520896911621, 113.57896327972412, 80.82480430603027, 77.00023651123047, 79.81564998626709, 139.3782377243042, 120.03076076507568, 240.89996814727783, 60.303497314453125, 175.37879943847656, 342.76862144470215, 148.40409755706787, 94.15338039398193, 99.33233261108398, 84.8482608795166], 'Gaussian Mixture': [421.8333959579468, 559.1383695602417, 554.5280694961548, 529.559588432312, 496.43635749816895, 451.00018978118896, 538.6965274810791, 465.463662147522, 534.5117330551147, 441.63568019866943, 455.2156448364258, 1770.5204248428345, 468.6760902404785, 441.4259910583496, 519.3951845169067, 469.1983222961426, 511.6633653640747, 519.0502882003784, 554.6017169952393, 507.0704460144043, 477.1120071411133, 562.865161895752, 468.8304662704468, 414.5848274230957, 392.73133277893066, 558.5987567901611, 532.4848651885986, 565.9448862075806, 502.51076221466064, 414.6671772003174, 511.7412328720093, 483.93518924713135, 494.5108890533447, 513.1458044052124, 492.4354314804077, 400.7486581802368, 424.8981475830078, 435.65354347229004, 428.9798974990845, 2102.598190307617, 432.95443058013916, 441.0555124282837, 471.0918664932251, 445.4364776611328], 'CUDA K Means': [72.29559364318848, 50.53536949157715, 45.77542266845703, 45.854706573486325, 45.95570373535156, 45.60886840820312, 45.72383422851563, 45.92145462036133, 45.77276191711426, 45.6877384185791, 45.76896018981934, 168.40961761474608, 46.17023963928223, 45.69916610717773, 45.649482345581056, 45.75599899291992, 45.654405975341795, 45.873783874511716, 45.71510391235351, 45.71614723205566, 45.7430965423584, 45.7566276550293, 45.79094276428223, 45.909753036499026, 45.791996765136716, 45.425035858154295, 45.71649322509766, 45.679626846313475, 45.74781799316406, 45.61275444030762, 45.76313400268555, 45.874914932250974, 45.7455020904541, 45.84459800720215, 45.63316459655762, 45.809722900390625, 45.62537269592285, 45.847160720825194, 45.78056030273437, 168.37585906982423, 45.51732902526855, 46.00520668029785, 45.55468406677246, 45.68585472106933]}\n",
      "\n",
      "\n",
      "Average accuracy per image\n",
      "{'K Means': [63.654223968565816, 61.93181818181818, 61.29722024233784, 60.51477597712107, 53.653217011995636, 61.81613085166384, 46.19164619164619, 73.48178137651821, 61.681715575620764, 54.030226700251895, 59.41679456259592, 0.0, 68.89061287820016, 76.21527777777779, 62.90692342961945, 60.07923560941505, 66.48793565683646, 51.54541131716596, 67.24409448818898, 61.81545386346586, 42.807558812186656, 57.955232909860854, 39.7523623330075, 65.37190082644628, 43.57638888888889, 41.25654450261781, 69.62351727694688, 59.591509811774124, 62.55789098681866, 67.10700132100396, 35.36585365853659, 65.05221061986225, 79.84790874524715, 58.572173006774364, 73.70491803278688, 36.34615384615385, 73.39642481598318, 74.05900305188199, 69.95420922860161, 78.14845300924806, 77.28894173602853, 71.65775401069519, 52.60869565217391, 51.69162506932889], 'Gaussian Mixture': [59.2292089249493, 65.83850931677019, 72.03667321545514, 69.10001789228842, 64.37810945273633, 63.81322957198443, 48.02751365567469, 84.58367683429515, 63.757643135075035, 52.638270820089005, 59.724349157733535, 3.7463976945244957, 74.31328878990348, 82.9975825946817, 55.76459237819586, 64.07063617840163, 74.05012126111559, 53.289473684210535, 65.76433121019109, 68.01132342533617, 59.05947441217151, 64.35586366262275, 39.79125896934116, 70.75583696082312, 49.331103678929765, 42.959917780061666, 69.08337648886588, 64.47622729029764, 65.10489510489509, 65.32797858099063, 81.49184149184148, 71.77538526493561, 83.4340991535671, 76.33451957295374, 73.28947368421052, 37.3904576436222, 75.38167938931298, 87.60991207034373, 75.81567440295997, 77.57345787118116, 81.62564396107614, 71.42857142857143, 80.91482649842271, 54.752851711026615], 'CUDA K Means': [72.55474452554745, 78.23383084577115, 69.83277591973244, 68.01371098683023, 84.83483483483484, 66.77542142468734, 47.34809997967893, 84.42028985507247, 76.14957049014653, 73.05585980284775, 64.41108056671601, 3.0799078452770705, 84.90566037735849, 83.57487922705315, 64.82820976491863, 62.41979835013749, 75.31847133757962, 53.80472957152892, 67.60895170789163, 84.00541271989175, 60.78750406768631, 68.08988764044945, 48.727925770727325, 71.71439780306002, 68.07888970051133, 48.4472049689441, 65.67481402763018, 60.54097056483692, 68.46232526423456, 69.94182288299935, 80.44588945657223, 86.77536231884058, 87.71228771228772, 77.69467663880334, 82.48175182481752, 46.17834394904459, 76.0890609874153, 87.61061946902655, 85.19900497512438, 84.81325521786891, 89.18640576725025, 86.90292758089369, 74.14272474513439, 58.21845174973489]}\n",
      "\n",
      "\n"
     ]
    },
    {
     "data": {
      "application/vnd.jupyter.widget-view+json": {
       "model_id": "28b8bc4175844893b440017364dd094b",
       "version_major": 2,
       "version_minor": 0
      },
      "text/plain": [
       "HBox(children=(IntProgress(value=0, description='Avg time per algorithm (N_CLUSTERS = 9)', max=3), HTML(value=…"
      ]
     },
     "metadata": {},
     "output_type": "display_data"
    },
    {
     "data": {
      "application/vnd.jupyter.widget-view+json": {
       "model_id": "2afacbe5973e4474b80f2c7fd942cdf2",
       "version_major": 2,
       "version_minor": 0
      },
      "text/plain": [
       "HBox(children=(IntProgress(value=0, description='Avg acc per algorithm (N_CLUSTERS = 9)', max=3), HTML(value='…"
      ]
     },
     "metadata": {},
     "output_type": "display_data"
    },
    {
     "name": "stdout",
     "output_type": "stream",
     "text": [
      "\n",
      "Total average time (msecs)\n",
      "[[31.912983547557484, 250.83396326411855, 21.041653849861838], [49.02191487225619, 276.29934332587504, 25.15742429386485], [62.036899003115565, 318.4749792922627, 31.15182054693049], [83.6683452129364, 370.0789142738689, 36.35587107484991], [106.47322210398588, 445.14880017800766, 44.15090852217241], [148.76691157167608, 489.1648254611275, 47.67810733101585], [132.9218176278201, 549.5258309624412, 52.0404901938005]]\n",
      "\n",
      "\n",
      "95% Confidence interval of time (msecs)\n",
      "[[[24.532093640576154, 39.29387345453881], [203.78577688001957, 297.88214964821753], [17.878547082805134, 24.20476061691854]], [[38.993279457227885, 59.050550287284494], [221.6862481774976, 330.9124384742525], [21.327039431014835, 28.987809156714864]], [[48.66103445103141, 75.41276355519972], [261.235022397772, 375.71493618675333], [26.485903364791945, 35.81773772906904]], [[70.83033192800929, 96.50635849786352], [309.16002364362447, 430.99780490411337], [30.994995101799425, 41.71674704790039]], [[88.8850792710094, 124.06136493696235], [358.5757404464477, 531.7218599095677], [37.40734983684344, 50.89446720750138]], [[100.16934807519448, 197.36447506815767], [403.1149282135146, 575.2147227087405], [40.56598206371088, 54.79023259832083]], [[105.62622164905824, 160.21741360658197], [455.74491986120483, 643.3067420636776], [44.22588543455567, 59.85509495304533]]]\n",
      "\n",
      "\n",
      "Total average accuracy (%)\n",
      "[[66.71818937455167, 61.813777480807, 72.9656405790198], [79.70465936373454, 80.37642535127215, 81.68719896744157], [78.16947927119344, 78.76085936717386, 80.54547968258625], [75.169099582798, 77.12973543265156, 77.78574118614256], [70.1952256138125, 73.18949324176246, 74.29504406897168], [63.546379976145495, 68.21476009451432, 72.102534771699], [59.5488347230377, 65.09543809696902, 70.4339260276681]]\n",
      "\n",
      "\n",
      "95% Confidence interval of accuracy (%)\n",
      "[[[57.258805212600734, 76.1775735365026], [53.17259982631046, 70.45495513530354], [64.96660331190681, 80.9646778461328]], [[74.75980273293264, 84.64951599453643], [76.18514777012486, 84.56770293241944], [77.10254813483247, 86.27184980005067]], [[73.7131498223769, 82.62580872000997], [74.19298659294121, 83.32873214140652], [76.39513729722162, 84.69582206795087]], [[70.70933584367361, 79.62886332192238], [72.42572399437408, 81.83374687092903], [73.19251189955342, 82.3789704727317]], [[65.95420257028695, 74.43624865733804], [68.23435097262592, 78.14463551089901], [69.47301785852176, 79.1170702794216]], [[58.89921127860413, 68.19354867368686], [63.47088455635071, 72.95863563267793], [67.10197750186327, 77.10309204153472]], [[55.14451785702922, 63.95315158904618], [60.4953654942953, 69.69551069964274], [65.67553013692284, 75.19232191841334]]]\n",
      "\n",
      "\n"
     ]
    }
   ],
   "source": [
    "N_CLUSTERS_RANGE = (3, 10)\n",
    "t_avg_accuracy = []\n",
    "conf95_accuracy = []\n",
    "\n",
    "t_avg_time = []\n",
    "conf95_time = []\n",
    "\n",
    "CONF_INT_COEFF = 1.0 / sqrt(N) * t(0.05, N - 1)\n",
    "\n",
    "avg_time_per_n_clusters = []\n",
    "avg_acc_per_n_clusters = []\n",
    "\n",
    "for N_CLUSTERS in tqdm(range(N_CLUSTERS_RANGE[0], N_CLUSTERS_RANGE[1]), desc='Collecting data'):\n",
    "    print('================================')\n",
    "    print('N CLUSTERS = ', N_CLUSTERS)\n",
    "    print('================================')\n",
    "    time_t, accuracy_t = {}, {}\n",
    "    for alg in tqdm(ALGS.keys()):\n",
    "        avg_time, avg_accuracy = profile(ALGS[alg], PREP, N_CLUSTERS)\n",
    "        time_t[alg] = avg_time\n",
    "        accuracy_t[alg] = avg_accuracy\n",
    "\n",
    "    print('Average time per image')\n",
    "    print(time_t)\n",
    "    print('\\n')\n",
    "\n",
    "    print('Average accuracy per image')\n",
    "    print(accuracy_t)\n",
    "    print('\\n')\n",
    "\n",
    "    \n",
    "    t_avg_time_alg = []\n",
    "    t_avg_accuracy_alg = []\n",
    "    conf95_time_alg = []\n",
    "    conf95_accuracy_alg = []\n",
    "    \n",
    "    avg_time_per_alg = []\n",
    "    for alg, time_per_image in tqdm(time_t.items(), desc='Avg time per algorithm (N_CLUSTERS = %d)' % N_CLUSTERS):\n",
    "        avg_time_per_alg.append(time_per_image)\n",
    "        t_avg_time_ = np.mean(time_per_image)\n",
    "        t_std_time_ = np.std(time_per_image)\n",
    "        t_avg_time_alg.append(t_avg_time_)\n",
    "#         t_std_time[i].append(t_std_time_)\n",
    "        conf95_time_alg.append(\n",
    "            [\n",
    "                t_avg_time_ - t_std_time_ * CONF_INT_COEFF, \n",
    "                t_avg_time_ + t_std_time_ * CONF_INT_COEFF\n",
    "            ]\n",
    "        )\n",
    "    avg_time_per_n_clusters.append(avg_time_per_alg)\n",
    "\n",
    "    avg_acc_per_alg = []\n",
    "    for alg, accuracy_per_image in tqdm(accuracy_t.items(), desc='Avg acc per algorithm (N_CLUSTERS = %d)' % N_CLUSTERS):\n",
    "        avg_acc_per_alg.append(accuracy_per_image)\n",
    "        t_avg_accuracy_ = np.mean(accuracy_per_image)\n",
    "        t_std_accuracy_ = np.std(accuracy_per_image)\n",
    "        t_avg_accuracy_alg.append(t_avg_accuracy_)\n",
    "#         t_std_accuracy[i].append(t_std_accuracy_)\n",
    "        conf95_accuracy_alg.append(\n",
    "            [\n",
    "                t_avg_accuracy_ - t_std_accuracy_ * CONF_INT_COEFF, \n",
    "                t_avg_accuracy_ + t_std_accuracy_ * CONF_INT_COEFF\n",
    "            ]\n",
    "        )\n",
    "    avg_acc_per_n_clusters.append(avg_time_per_alg)\n",
    "    \n",
    "    t_avg_time.append(t_avg_time_alg)\n",
    "    t_avg_accuracy.append(t_avg_accuracy_alg)\n",
    "    conf95_time.append(conf95_time_alg)\n",
    "    conf95_accuracy.append(conf95_accuracy_alg)\n",
    "\n",
    "print('Total average time (msecs)')\n",
    "print(t_avg_time)\n",
    "print('\\n')\n",
    "\n",
    "# print('Total std of time (msecs)^2')\n",
    "# print(t_std_time)\n",
    "# print('\\n')\n",
    "\n",
    "print('95% Confidence interval of time (msecs)')\n",
    "print(conf95_time)\n",
    "print('\\n')\n",
    "\n",
    "print('Total average accuracy (%)')\n",
    "print(t_avg_accuracy)\n",
    "print('\\n')\n",
    "\n",
    "#     print('Total std of accuracy (%)')\n",
    "#     print(t_std_accuracy)\n",
    "#     print('\\n')\n",
    "\n",
    "print('95% Confidence interval of accuracy (%)')\n",
    "print(conf95_accuracy)\n",
    "print('\\n')"
   ]
  },
  {
   "cell_type": "code",
   "execution_count": 11,
   "metadata": {
    "scrolled": false
   },
   "outputs": [
    {
     "data": {
      "image/png": "[encoded data removed]",
      "text/plain": [
       "<Figure size 720x720 with 1 Axes>"
      ]
     },
     "metadata": {},
     "output_type": "display_data"
    },
    {
     "data": {
      "image/png": "[encoded data removed]",
      "text/plain": [
       "<Figure size 720x720 with 1 Axes>"
      ]
     },
     "metadata": {},
     "output_type": "display_data"
    },
    {
     "name": "stdout",
     "output_type": "stream",
     "text": [
      "\n",
      "\n",
      "===========================\n",
      "-----> K Means <-----\n",
      "\n",
      "\n",
      "[Average time]\n",
      "[ 31.91298355  49.02191487  62.036899    83.66834521 106.4732221\n",
      " 148.76691157 132.92181763]\n",
      "\n",
      "\n",
      "[Average accuracy]\n",
      "[66.71818937 79.70465936 78.16947927 75.16909958 70.19522561 63.54637998\n",
      " 59.54883472]\n",
      "\n",
      "\n",
      "[Conf 95% time]\n",
      "[[ 24.53209364  39.29387345]\n",
      " [ 38.99327946  59.05055029]\n",
      " [ 48.66103445  75.41276356]\n",
      " [ 70.83033193  96.5063585 ]\n",
      " [ 88.88507927 124.06136494]\n",
      " [100.16934808 197.36447507]\n",
      " [105.62622165 160.21741361]]\n",
      "\n",
      "\n",
      "[Conf 95% accuracy]\n",
      "[[57.25880521 76.17757354]\n",
      " [74.75980273 84.64951599]\n",
      " [73.71314982 82.62580872]\n",
      " [70.70933584 79.62886332]\n",
      " [65.95420257 74.43624866]\n",
      " [58.89921128 68.19354867]\n",
      " [55.14451786 63.95315159]]\n",
      "\n",
      "\n",
      "===========================\n",
      "-----> Gaussian Mixture <-----\n",
      "\n",
      "\n",
      "[Average time]\n",
      "[250.83396326 276.29934333 318.47497929 370.07891427 445.14880018\n",
      " 489.16482546 549.52583096]\n",
      "\n",
      "\n",
      "[Average accuracy]\n",
      "[61.81377748 80.37642535 78.76085937 77.12973543 73.18949324 68.21476009\n",
      " 65.0954381 ]\n",
      "\n",
      "\n",
      "[Conf 95% time]\n",
      "[[203.78577688 297.88214965]\n",
      " [221.68624818 330.91243847]\n",
      " [261.2350224  375.71493619]\n",
      " [309.16002364 430.9978049 ]\n",
      " [358.57574045 531.72185991]\n",
      " [403.11492821 575.21472271]\n",
      " [455.74491986 643.30674206]]\n",
      "\n",
      "\n",
      "[Conf 95% accuracy]\n",
      "[[53.17259983 70.45495514]\n",
      " [76.18514777 84.56770293]\n",
      " [74.19298659 83.32873214]\n",
      " [72.42572399 81.83374687]\n",
      " [68.23435097 78.14463551]\n",
      " [63.47088456 72.95863563]\n",
      " [60.49536549 69.6955107 ]]\n",
      "\n",
      "\n",
      "===========================\n",
      "-----> CUDA K Means <-----\n",
      "\n",
      "\n",
      "[Average time]\n",
      "[21.04165385 25.15742429 31.15182055 36.35587107 44.15090852 47.67810733\n",
      " 52.04049019]\n",
      "\n",
      "\n",
      "[Average accuracy]\n",
      "[72.96564058 81.68719897 80.54547968 77.78574119 74.29504407 72.10253477\n",
      " 70.43392603]\n",
      "\n",
      "\n",
      "[Conf 95% time]\n",
      "[[17.87854708 24.20476062]\n",
      " [21.32703943 28.98780916]\n",
      " [26.48590336 35.81773773]\n",
      " [30.9949951  41.71674705]\n",
      " [37.40734984 50.89446721]\n",
      " [40.56598206 54.7902326 ]\n",
      " [44.22588543 59.85509495]]\n",
      "\n",
      "\n",
      "[Conf 95% accuracy]\n",
      "[[64.96660331 80.96467785]\n",
      " [77.10254813 86.2718498 ]\n",
      " [76.3951373  84.69582207]\n",
      " [73.1925119  82.37897047]\n",
      " [69.47301786 79.11707028]\n",
      " [67.1019775  77.10309204]\n",
      " [65.67553014 75.19232192]]\n"
     ]
    }
   ],
   "source": [
    "from pylab import rcParams\n",
    "rcParams['figure.figsize'] = 10, 10\n",
    "rcParams['legend.fontsize'] = 15\n",
    "rcParams['xtick.labelsize'] = 15\n",
    "rcParams['ytick.labelsize'] = 15\n",
    "\n",
    "res_time = np.asarray(t_avg_time)\n",
    "res_acc = np.asarray(t_avg_accuracy)\n",
    "conf95_time_res = np.asarray(conf95_time)\n",
    "conf95_acc_res = np.asarray(conf95_accuracy)\n",
    "\n",
    "avg_time_per_n_clusters = np.asarray(avg_time_per_n_clusters)\n",
    "avg_acc_per_n_clusters = np.asarray(avg_acc_per_n_clusters)\n",
    "\n",
    "X = np.arange(N_CLUSTERS_RANGE[0], N_CLUSTERS_RANGE[1])\n",
    "plt.title('Average time (msecs)', fontsize=18, fontweight='bold')\n",
    "plt.xticks(X)\n",
    "plt.xlabel('n clusters', fontweight=\"bold\", fontsize=16)\n",
    "plt.ylabel('msecs', fontweight=\"bold\", fontsize=16)\n",
    "plt.ylim(0, np.max(res_time) * 1.1)\n",
    "# plt.yscale('log', basey=10)\n",
    "for i, alg in zip(range(len(ALGS.keys())), ALGS.keys()):\n",
    "    # ax.set_xticklabels(['K=%d' % k for k in range(3, 6)])\n",
    "    plt.plot(X, res_time[:,i], label=alg)\n",
    "#     plt.fill_between(X, conf95_time_res[:,i,0], conf95_time_res[:,i,1], alpha=0.15)\n",
    "    # plt.axis('equal')\n",
    "plt.legend()\n",
    "plt.grid()\n",
    "plt.show()\n",
    "\n",
    "\n",
    "plt.title('Average accuracy (%)', fontsize=18, fontweight='bold')\n",
    "plt.xticks(X)\n",
    "plt.xlabel('n clusters', fontweight=\"bold\", fontsize=16)\n",
    "plt.ylabel('%', fontweight=\"bold\", fontsize=16)\n",
    "plt.ylim(0, np.max(res_acc) * 1.1)\n",
    "# plt.yscale('log', basey=10)\n",
    "for i, alg in zip(range(len(ALGS.keys())), ALGS.keys()):\n",
    "    # ax.set_xticklabels(['K=%d' % k for k in range(3, 6)])\n",
    "    plt.plot(X, res_acc[:,i], label=alg)\n",
    "#     plt.fill_between(X, conf95_acc_res[:,i,0], conf95_acc_res[:,i,1], alpha=0.15)\n",
    "    # plt.axis('equal')\n",
    "plt.legend()\n",
    "plt.grid()\n",
    "plt.show()\n",
    "\n",
    "import matplotlib\n",
    "palegreen = matplotlib.colors.colorConverter.to_rgb('#8CFF6F')\n",
    "paleblue = matplotlib.colors.colorConverter.to_rgb('#708DFF')\n",
    "    \n",
    "# for i, alg in zip(range(len(ALGS.keys())), ALGS.keys()):\n",
    "#     fig = plt.figure(1, figsize=(9, 9))\n",
    "#     ax = fig.add_subplot(111)\n",
    "    \n",
    "#     ax.set_title('%s - Time (msecs)' % alg)\n",
    "#     bp = ax.boxplot(avg_time_per_n_clusters[:,i,:].T)\n",
    "#     ax.set_xticklabels(list(range(N_CLUSTERS_RANGE[0], N_CLUSTERS_RANGE[1])))\n",
    "#     plt.show()\n",
    "\n",
    "#     fig = plt.figure(1, figsize=(9, 9))\n",
    "#     ax = fig.add_subplot(111)\n",
    "    \n",
    "#     ax.set_title('%s - Accuracy (%%)' % alg)\n",
    "#     bp = ax.boxplot(avg_acc_per_n_clusters[:,i,:].T)\n",
    "#     ax.set_xticklabels(list(range(N_CLUSTERS_RANGE[0], N_CLUSTERS_RANGE[1])))\n",
    "#     plt.show()\n",
    "\n",
    "for i, alg in zip(range(len(ALGS.keys())), ALGS.keys()):\n",
    "    print(\"\\n\")\n",
    "    print(\"===========================\")\n",
    "    print('----->', alg, '<-----')\n",
    "    print(\"\\n\")\n",
    "    print('[Average time]')\n",
    "    print(res_time[:,i])\n",
    "    print(\"\\n\")\n",
    "    print('[Average accuracy]')\n",
    "    print(res_acc[:,i])\n",
    "    print(\"\\n\")\n",
    "    print('[Conf 95% time]')\n",
    "    print(conf95_time_res[:,i,:])\n",
    "    print(\"\\n\")\n",
    "    print('[Conf 95% accuracy]')\n",
    "    print(conf95_acc_res[:,i,:])\n"
   ]
  },
  {
   "cell_type": "code",
   "execution_count": 12,
   "metadata": {
    "scrolled": false
   },
   "outputs": [
    {
     "data": {
      "image/png": "[encoded data removed]",
      "text/plain": [
       "<Figure size 720x720 with 1 Axes>"
      ]
     },
     "metadata": {},
     "output_type": "display_data"
    },
    {
     "data": {
      "image/png": "[encoded data removed]",
      "text/plain": [
       "<Figure size 720x720 with 1 Axes>"
      ]
     },
     "metadata": {},
     "output_type": "display_data"
    },
    {
     "name": "stdout",
     "output_type": "stream",
     "text": [
      "\n",
      "\n",
      "===========================\n",
      "-----> K Means <-----\n",
      "\n",
      "\n",
      "[Average time]\n",
      "[ 31.91298355  49.02191487  62.036899    83.66834521 106.4732221\n",
      " 148.76691157 132.92181763]\n",
      "\n",
      "\n",
      "[Average accuracy]\n",
      "[66.71818937 79.70465936 78.16947927 75.16909958 70.19522561 63.54637998\n",
      " 59.54883472]\n",
      "\n",
      "\n",
      "[Conf 95% time]\n",
      "[[ 24.53209364  39.29387345]\n",
      " [ 38.99327946  59.05055029]\n",
      " [ 48.66103445  75.41276356]\n",
      " [ 70.83033193  96.5063585 ]\n",
      " [ 88.88507927 124.06136494]\n",
      " [100.16934808 197.36447507]\n",
      " [105.62622165 160.21741361]]\n",
      "\n",
      "\n",
      "[Conf 95% accuracy]\n",
      "[[57.25880521 76.17757354]\n",
      " [74.75980273 84.64951599]\n",
      " [73.71314982 82.62580872]\n",
      " [70.70933584 79.62886332]\n",
      " [65.95420257 74.43624866]\n",
      " [58.89921128 68.19354867]\n",
      " [55.14451786 63.95315159]]\n"
     ]
    }
   ],
   "source": [
    "from pylab import rcParams\n",
    "# rcParams['title.fontsize'] = 18\n",
    "# rcParams['title.fontname'] = \"Times New Roman Bold\"\n",
    "rcParams['figure.figsize'] = 10, 10\n",
    "rcParams['legend.fontsize'] = 17\n",
    "rcParams['xtick.labelsize'] = 15\n",
    "rcParams['ytick.labelsize'] = 15\n",
    "\n",
    "res_time = np.asarray(t_avg_time)\n",
    "res_acc = np.asarray(t_avg_accuracy)\n",
    "conf95_time_res = np.asarray(conf95_time)\n",
    "conf95_acc_res = np.asarray(conf95_accuracy)\n",
    "\n",
    "avg_time_per_n_clusters = np.asarray(avg_time_per_n_clusters)\n",
    "avg_acc_per_n_clusters = np.asarray(avg_acc_per_n_clusters)\n",
    "\n",
    "X = np.arange(N_CLUSTERS_RANGE[0], N_CLUSTERS_RANGE[1])\n",
    "plt.title('Average time (msecs)', fontsize=18, fontweight=\"bold\")\n",
    "plt.xticks(X)\n",
    "plt.xlabel('n clusters', fontsize=18, fontweight=\"bold\")\n",
    "plt.ylabel('msecs', fontsize=18, fontweight=\"bold\")\n",
    "plt.ylim(0, np.max(conf95_time_res[:, [0, 2], 1]) * 1.1)\n",
    "# plt.yscale('log', basey=10)\n",
    "for i, alg in zip(range(len(ALGS.keys())), ALGS.keys()):\n",
    "    # ax.set_xticklabels(['K=%d' % k for k in range(3, 6)])\n",
    "    if i == 0 or i == 4:\n",
    "        plt.plot(X, res_time[:,i], label=alg)\n",
    "        plt.fill_between(X, conf95_time_res[:,i,0], conf95_time_res[:,i,1], alpha=0.08)\n",
    "    # plt.axis('equal')\n",
    "plt.legend()\n",
    "plt.grid()\n",
    "plt.show()\n",
    "\n",
    "\n",
    "plt.title('Average accuracy (%)', fontsize=18, fontname=\"Times New Roman Bold\", fontweight=\"bold\")\n",
    "plt.xticks(X)\n",
    "plt.xlabel('n clusters', fontsize=18, fontweight=\"bold\")\n",
    "plt.ylabel('%', fontsize=18, fontweight=\"bold\")\n",
    "plt.ylim(0, np.max(conf95_acc_res[:, [0, 2], 1]) * 1.1)\n",
    "# plt.yscale('log', basey=10)\n",
    "for i, alg in zip(range(len(ALGS.keys())), ALGS.keys()):\n",
    "    if i == 0 or i == 4:\n",
    "    # ax.set_xticklabels(['K=%d' % k for k in range(3, 6)])\n",
    "        plt.plot(X, res_acc[:,i], label=alg)\n",
    "        plt.fill_between(X, conf95_acc_res[:,i,0], conf95_acc_res[:,i,1], alpha=0.08)\n",
    "    # plt.axis('equal')\n",
    "plt.legend()\n",
    "plt.grid()\n",
    "plt.show()\n",
    "\n",
    "import matplotlib\n",
    "palegreen = matplotlib.colors.colorConverter.to_rgb('#8CFF6F')\n",
    "paleblue = matplotlib.colors.colorConverter.to_rgb('#708DFF')\n",
    "    \n",
    "# for i, alg in zip(range(len(ALGS.keys())), ALGS.keys()):\n",
    "#     if i == 0 or i == 4:\n",
    "#         fig = plt.figure(1, figsize=(9, 9))\n",
    "#         ax = fig.add_subplot(111)\n",
    "\n",
    "#         ax.set_title('%s - Time (msecs)' % alg)\n",
    "#         bp = ax.boxplot(avg_time_per_n_clusters[:,i,:].T)\n",
    "#         ax.set_xticklabels(list(range(N_CLUSTERS_RANGE[0], N_CLUSTERS_RANGE[1])))\n",
    "#         plt.show()\n",
    "\n",
    "#         fig = plt.figure(1, figsize=(9, 9))\n",
    "#         ax = fig.add_subplot(111)\n",
    "\n",
    "#         ax.set_title('%s - Accuracy (%%)' % alg)\n",
    "#         bp = ax.boxplot(avg_acc_per_n_clusters[:,i,:].T)\n",
    "#         ax.set_xticklabels(list(range(N_CLUSTERS_RANGE[0], N_CLUSTERS_RANGE[1])))\n",
    "#         plt.show()\n",
    "\n",
    "for i, alg in zip(range(len(ALGS.keys())), ALGS.keys()):\n",
    "    if i == 0 or i == 4:\n",
    "        print(\"\\n\")\n",
    "        print(\"===========================\")\n",
    "        print('----->', alg, '<-----')\n",
    "        print(\"\\n\")\n",
    "        print('[Average time]')\n",
    "        print(res_time[:,i])\n",
    "        print(\"\\n\")\n",
    "        print('[Average accuracy]')\n",
    "        print(res_acc[:,i])\n",
    "        print(\"\\n\")\n",
    "        print('[Conf 95% time]')\n",
    "        print(conf95_time_res[:,i,:])\n",
    "        print(\"\\n\")\n",
    "        print('[Conf 95% accuracy]')\n",
    "        print(conf95_acc_res[:,i,:])\n"
   ]
  },
  {
   "cell_type": "code",
   "execution_count": 13,
   "metadata": {},
   "outputs": [
    {
     "name": "stdout",
     "output_type": "stream",
     "text": [
      "Time\n",
      "\n",
      "                       3       4       5       6       7       8       9\n",
      "K Means            31.91   49.02   62.04   83.67  106.47  148.77  132.92\n",
      "Gaussian Mixture  250.83  276.30  318.47  370.08  445.15  489.16  549.53\n",
      "CUDA K Means       21.04   25.16   31.15   36.36   44.15   47.68   52.04\n",
      "\n",
      "\n",
      "Accuracy\n",
      "\n",
      "                      3      4      5      6      7      8      9\n",
      "K Means           66.72  79.70  78.17  75.17  70.20  63.55  59.55\n",
      "Gaussian Mixture  61.81  80.38  78.76  77.13  73.19  68.21  65.10\n",
      "CUDA K Means      72.97  81.69  80.55  77.79  74.30  72.10  70.43\n",
      "\n",
      "\n",
      "Time (95% confidence interval)\n",
      "\n",
      "                               3               4               5  \\\n",
      "K Means           [24.53, 39.29]  [38.99, 59.05]  [48.66, 75.41]   \n",
      "Gaussian Mixture  [203.79, 297.8  [221.69, 330.9  [261.24, 375.7   \n",
      "CUDA K Means      [17.88, 24.20]  [21.33, 28.99]  [26.49, 35.82]   \n",
      "\n",
      "                               6               7               8  \\\n",
      "K Means           [70.83, 96.51]  [88.89, 124.06  [100.17, 197.3   \n",
      "Gaussian Mixture  [309.16, 431.0  [358.58, 531.7  [403.11, 575.2   \n",
      "CUDA K Means      [30.99, 41.72]  [37.41, 50.89]  [40.57, 54.79]   \n",
      "\n",
      "                               9  \n",
      "K Means           [105.63, 160.2  \n",
      "Gaussian Mixture  [455.74, 643.3  \n",
      "CUDA K Means      [44.23, 59.86]  \n",
      "\n",
      "\n",
      "Accuracy (95% confidence interval)\n",
      "\n",
      "                               3               4               5  \\\n",
      "K Means           [57.26, 76.18]  [74.76, 84.65]  [73.71, 82.63]   \n",
      "Gaussian Mixture  [53.17, 70.45]  [76.19, 84.57]  [74.19, 83.33]   \n",
      "CUDA K Means      [64.97, 80.96]  [77.10, 86.27]  [76.40, 84.70]   \n",
      "\n",
      "                               6               7               8  \\\n",
      "K Means           [70.71, 79.63]  [65.95, 74.44]  [58.90, 68.19]   \n",
      "Gaussian Mixture  [72.43, 81.83]  [68.23, 78.14]  [63.47, 72.96]   \n",
      "CUDA K Means      [73.19, 82.38]  [69.47, 79.12]  [67.10, 77.10]   \n",
      "\n",
      "                               9  \n",
      "K Means           [55.14, 63.95]  \n",
      "Gaussian Mixture  [60.50, 69.70]  \n",
      "CUDA K Means      [65.68, 75.19]  \n"
     ]
    }
   ],
   "source": [
    "import pandas as pd\n",
    "df_time = pd.DataFrame(np.round(res_time.T, decimals=2), columns=[str(k) for k in range(N_CLUSTERS_RANGE[0], N_CLUSTERS_RANGE[1])])\n",
    "df_time.index = ALGS.keys()\n",
    "df_acc = pd.DataFrame(np.round(res_acc.T, decimals=2), columns=[str(k) for k in range(N_CLUSTERS_RANGE[0], N_CLUSTERS_RANGE[1])])\n",
    "df_acc.index = ALGS.keys()\n",
    "\n",
    "conf95_time_res[conf95_time_res < 0] = 0\n",
    "conf95_acc_res[conf95_acc_res < 0] = 0\n",
    "\n",
    "# Conf 95 time\n",
    "df_conf_time = np.apply_along_axis(\n",
    "    lambda x: '[%.2f, %.2f]' % (x[0], x[1]), \n",
    "    2, \n",
    "    np.round(conf95_time_res, decimals=2)\n",
    ").T\n",
    "df_conf_time = pd.DataFrame(df_conf_time, columns=[str(k) for k in range(N_CLUSTERS_RANGE[0], N_CLUSTERS_RANGE[1])])\n",
    "df_conf_time.index = ALGS.keys()\n",
    "\n",
    "# Conf 95 accuracy\n",
    "df_conf_acc = np.apply_along_axis(\n",
    "    lambda x: '[%.2f, %.2f]' % (x[0], x[1]), \n",
    "    2, \n",
    "    np.round(conf95_acc_res, decimals=2)\n",
    ").T\n",
    "df_conf_acc = pd.DataFrame(df_conf_acc, columns=[str(k) for k in range(N_CLUSTERS_RANGE[0], N_CLUSTERS_RANGE[1])])\n",
    "df_conf_acc.index = ALGS.keys()\n",
    "\n",
    "print('Time\\n')\n",
    "print(df_time)\n",
    "print('\\n')\n",
    "\n",
    "print('Accuracy\\n')\n",
    "print(df_acc)\n",
    "print('\\n')\n",
    "\n",
    "print('Time (95% confidence interval)\\n')\n",
    "print(df_conf_time)\n",
    "print('\\n')\n",
    "\n",
    "print('Accuracy (95% confidence interval)\\n')\n",
    "print(df_conf_acc)\n",
    "\n",
    "writer = pd.ExcelWriter('benchmark_max.xlsx')\n",
    "df_time.to_excel(writer, 'Time')\n",
    "df_acc.to_excel(writer, 'Accuracy')\n",
    "df_conf_time.to_excel(writer, 'Time - 95')\n",
    "df_conf_acc.to_excel(writer, 'Accuracy - 95')\n",
    "writer.save()"
   ]
  }
 ],
 "metadata": {
  "kernelspec": {
   "display_name": "Python 3",
   "language": "python",
   "name": "python3"
  },
  "language_info": {
   "codemirror_mode": {
    "name": "ipython",
    "version": 3
   },
   "file_extension": ".py",
   "mimetype": "text/x-python",
   "name": "python",
   "nbconvert_exporter": "python",
   "pygments_lexer": "ipython3",
   "version": "3.6.5"
  }
 },
 "nbformat": 4,
 "nbformat_minor": 2
}
